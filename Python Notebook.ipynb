{
  "cells": [
    {
      "cell_type": "markdown",
      "metadata": {
        "id": "DBMa4Z5kIX1x"
      },
      "source": [
        "# **[CS 132] Group 29: Allegations Against the Aquinos**\n",
        "\n",
        "## **Data Modeling and Data Communication using Google Colaboratory**"
      ],
      "id": "DBMa4Z5kIX1x"
    },
    {
      "cell_type": "markdown",
      "metadata": {
        "id": "p9CSk54PZ8iY"
      },
      "source": [
        "### **I. Preprocessing (Data Exploration Extension)**"
      ],
      "id": "p9CSk54PZ8iY"
    },
    {
      "cell_type": "code",
      "execution_count": null,
      "metadata": {
        "id": "cIZAf8Z59TyW"
      },
      "outputs": [],
      "source": [
        "# Import core libraries\n",
        "import numpy as np\n",
        "import scipy as sp\n",
        "import pandas as pd\n",
        "import calendar\n",
        "import matplotlib.pyplot as plt\n",
        "import seaborn as sns\n",
        "import plotly.graph_objects as go\n",
        "import statsmodels.api as sm\n",
        "\n",
        "from copy import deepcopy\n",
        "from datetime import datetime, timedelta\n",
        "from scipy.signal import argrelextrema\n",
        "from sklearn.svm import SVR\n",
        "from sklearn.pipeline import Pipeline\n",
        "from sklearn.preprocessing import StandardScaler\n",
        "from sklearn.model_selection import train_test_split, GridSearchCV\n",
        "from sklearn.metrics import r2_score, mean_squared_error\n",
        "from sklearn.linear_model import LinearRegression\n",
        "\n",
        "custom_params = {\"axes.spines.right\": False, \"axes.spines.top\": False}\n",
        "sns.set_theme(style=\"darkgrid\", rc=custom_params, palette=\"pastel\")"
      ],
      "id": "cIZAf8Z59TyW"
    },
    {
      "cell_type": "code",
      "execution_count": null,
      "metadata": {
        "id": "UY92TKWq9kht"
      },
      "outputs": [],
      "source": [
        "main = pd.read_csv('https://raw.githubusercontent.com/cs132group29/allegations-surrounding-the-aquinos/main/Dataset%20-%20Group%2029.csv') # Retrieve Main Dataset from URL\n",
        "master = pd.read_csv('https://raw.githubusercontent.com/cs132group29/allegations-surrounding-the-aquinos/main/Master-Dataset.csv') # Retrieve Master Dataset from URL"
      ],
      "id": "UY92TKWq9kht"
    },
    {
      "cell_type": "code",
      "execution_count": null,
      "metadata": {
        "id": "4MCijlZH9_Lg"
      },
      "outputs": [],
      "source": [
        "df_main = deepcopy(main) # Make a copy of the original dataset\n",
        "df_master = deepcopy(master) # Make a copy of the master dataset\n",
        "\n",
        "# Removes the rows containing null values\n",
        "df_main = df_main[df_main['Timestamp'].notna()]\n",
        "df_master = df_master[df_master['Timestamp'].notna()]\n",
        "\n",
        "df_master.rename(columns={'Joined\\nFormat:': 'Joined'}, inplace=True)\n",
        "\n",
        "# Remove irrelevant columns\n",
        "drop_list = ['ID', 'Keywords', 'Group', 'Category', 'Topic', 'Collector', 'Tweet Translated', 'Screenshot',\n",
        "                'Quote Tweets', 'Views', 'Rating', 'Remarks', 'Reviewer', 'Review', 'Reasoning', 'Joined',\n",
        "                  'Followers', 'Following', 'Location', 'Content type', 'Likes', 'Replies', 'Retweets',\n",
        "                    'Account type', 'Timestamp', 'Tweet Type']\n",
        "\n",
        "df_main.drop(drop_list, axis = 1, inplace = True)\n",
        "df_master.drop(drop_list, axis = 1, inplace = True)\n",
        "\n",
        "# Anonymize data\n",
        "anonymity_list = ['Tweet URL','Account handle','Account name',]\n",
        "\n",
        "df_main.drop(anonymity_list, axis = 1, inplace = True)\n",
        "df_master.drop(anonymity_list, axis = 1, inplace = True)\n",
        "\n",
        "df_master.rename(columns={'Date posted ': 'Date posted'}, inplace=True)\n",
        "\n",
        "# Drop NaN entries\n",
        "df_main.dropna(axis=1, how='any', inplace = True)\n",
        "df_master.dropna(axis=1, how='any', inplace = True)\n",
        "\n",
        "# Type casting\n",
        "column_types = {\n",
        "    'Date posted': 'datetime64[ns]',\n",
        "}\n",
        "\n",
        "df_main = df_main.astype(column_types)\n",
        "df_master = df_master.astype(column_types)\n",
        "\n",
        "# Merge the dataframes\n",
        "df = pd.merge(df_main, df_master, how='outer')\n",
        "\n",
        "# Drop duplicate rows\n",
        "df = df.drop_duplicates(subset=['Tweet', 'Date posted'])\n",
        "\n",
        "# Invalid parsing will be tagged as null\n",
        "df['Date posted'] = pd.to_datetime(df['Date posted'], format='%d/%m/%y %H:%M', errors='coerce')\n",
        "\n",
        "# Apply a uniform format\n",
        "df['Date posted'] = df['Date posted'].dt.strftime('%d/%m/%y %H:%M')\n",
        "\n",
        "# Reset the index of the merged dataframe\n",
        "df = df.reset_index(drop=True)\n",
        "\n",
        "# display(df)"
      ],
      "id": "4MCijlZH9_Lg"
    },
    {
      "cell_type": "markdown",
      "metadata": {
        "id": "iA-HeSbIcAQc"
      },
      "source": [
        "------------------------------------------------\n",
        "### **II. Data Modeling and Analysis**"
      ],
      "id": "iA-HeSbIcAQc"
    },
    {
      "cell_type": "markdown",
      "metadata": {
        "id": "iaF3OrA-aPPc"
      },
      "source": [
        "For time-series analysis, we are interested in knowing the relationship of the tweets to certain events (if there is any). Thus, we focus our attention to the occurence of the tweets during the 2016-2022 timeframe."
      ],
      "id": "iaF3OrA-aPPc"
    },
    {
      "cell_type": "code",
      "execution_count": null,
      "metadata": {
        "id": "HzbEdZFV-A68"
      },
      "outputs": [],
      "source": [
        "# Extract year, month and day from date column\n",
        "df['date'] = pd.to_datetime(df['Date posted']).dt.date\n",
        "df['date'] = pd.DatetimeIndex(df['date'])\n",
        "\n",
        "\n",
        "# Filter out 2013 and 2023\n",
        "df = df[(df['date'].dt.year != 2023) & (df['date'].dt.year != 2013)]\n",
        "\n",
        "# Count the occurrences of similar dates\n",
        "date_counts = df['date'].value_counts()\n",
        "\n",
        "# Create a new DataFrame\n",
        "df_reg = pd.DataFrame({'date': date_counts.index, 'count': date_counts.values})\n",
        "df_reg = df_reg.sort_values('date')\n",
        "\n",
        "df_reg['year'] = df_reg['date'].dt.year\n",
        "df_reg['month'] = df_reg['date'].dt.month\n",
        "df_reg['day'] = df_reg['date'].dt.day\n",
        "\n",
        "\n",
        "# display(df_reg)"
      ],
      "id": "HzbEdZFV-A68"
    },
    {
      "cell_type": "markdown",
      "metadata": {
        "id": "Y4WQFpDjlvyk"
      },
      "source": [
        "### **A. Monthly Support Vector Regression (SVR) and Linear Regression Model**"
      ],
      "id": "Y4WQFpDjlvyk"
    },
    {
      "cell_type": "code",
      "execution_count": null,
      "metadata": {
        "id": "fUuCYpvmOBX5",
        "colab": {
          "base_uri": "https://localhost:8080/",
          "height": 791
        },
        "outputId": "a4554cb1-68d4-4bd4-9941-5768aba56a1e"
      },
      "outputs": [
        {
          "output_type": "stream",
          "name": "stdout",
          "text": [
            "Model Evaluation\n",
            "\n",
            "Linear Regression: RMSE=3.33, R2=0.38\n",
            "P(x1): 5.563760949067641e-10\n",
            "\n",
            "Support Vector Regression: RMSE=2.08, R2=0.72\n",
            "Hyperparameters: Pipeline(steps=[('scaler', StandardScaler()), ('svr', SVR(C=10, gamma=10))]) \n",
            "\n",
            "There is a significant relationship between the predictor and the response.\n",
            "\n"
          ]
        },
        {
          "output_type": "display_data",
          "data": {
            "text/html": [
              "<html>\n",
              "<head><meta charset=\"utf-8\" /></head>\n",
              "<body>\n",
              "    <div>            <script src=\"https://cdnjs.cloudflare.com/ajax/libs/mathjax/2.7.5/MathJax.js?config=TeX-AMS-MML_SVG\"></script><script type=\"text/javascript\">if (window.MathJax && window.MathJax.Hub && window.MathJax.Hub.Config) {window.MathJax.Hub.Config({SVG: {font: \"STIX-Web\"}});}</script>                <script type=\"text/javascript\">window.PlotlyConfig = {MathJaxConfig: 'local'};</script>\n",
              "        <script src=\"https://cdn.plot.ly/plotly-2.18.2.min.js\"></script>                <div id=\"bdb9d697-518c-4676-b482-45f37746b375\" class=\"plotly-graph-div\" style=\"height:600px; width:100%;\"></div>            <script type=\"text/javascript\">                                    window.PLOTLYENV=window.PLOTLYENV || {};                                    if (document.getElementById(\"bdb9d697-518c-4676-b482-45f37746b375\")) {                    Plotly.newPlot(                        \"bdb9d697-518c-4676-b482-45f37746b375\",                        [{\"marker\":{\"color\":\"#FFE459\",\"opacity\":1},\"mode\":\"markers\",\"name\":\"Actual\",\"x\":[\"2016-01-31\",\"2016-02-29\",\"2016-03-31\",\"2016-04-30\",\"2016-05-31\",\"2016-06-30\",\"2016-07-31\",\"2016-08-31\",\"2016-09-30\",\"2016-10-31\",\"2016-11-30\",\"2016-12-31\",\"2017-01-31\",\"2017-02-28\",\"2017-03-31\",\"2017-04-30\",\"2017-05-31\",\"2017-06-30\",\"2017-07-31\",\"2017-08-31\",\"2017-09-30\",\"2017-10-31\",\"2017-11-30\",\"2017-12-31\",\"2018-01-31\",\"2018-02-28\",\"2018-03-31\",\"2018-04-30\",\"2018-05-31\",\"2018-06-30\",\"2018-07-31\",\"2018-08-31\",\"2018-09-30\",\"2018-11-30\",\"2018-12-31\",\"2019-01-31\",\"2019-02-28\",\"2019-03-31\",\"2019-04-30\",\"2019-05-31\",\"2019-06-30\",\"2019-07-31\",\"2019-08-31\",\"2019-09-30\",\"2019-10-31\",\"2019-11-30\",\"2019-12-31\",\"2020-01-31\",\"2020-02-29\",\"2020-03-31\",\"2020-04-30\",\"2020-05-31\",\"2020-06-30\",\"2020-07-31\",\"2020-08-31\",\"2020-09-30\",\"2020-10-31\",\"2020-11-30\",\"2020-12-31\",\"2021-01-31\",\"2021-02-28\",\"2021-03-31\",\"2021-04-30\",\"2021-05-31\",\"2021-06-30\",\"2021-07-31\",\"2021-08-31\",\"2021-09-30\",\"2021-10-31\",\"2021-11-30\",\"2021-12-31\",\"2022-01-31\",\"2022-02-28\",\"2022-03-31\",\"2022-04-30\",\"2022-05-31\",\"2022-06-30\",\"2022-07-31\",\"2022-08-31\",\"2022-09-30\",\"2022-10-31\",\"2022-11-30\",\"2022-12-31\"],\"y\":[1,9,1,2,3,2,1,9,3,3,5,1,2,6,1,5,6,5,5,5,1,2,7,3,2,4,3,3,3,3,2,6,6,3,1,6,4,4,4,4,8,1,7,6,2,3,5,9,6,5,6,9,9,8,9,7,3,3,3,5,6,1,1,4,5,5,5,12,7,6,13,6,17,15,14,17,12,18,16,5,14,11,14],\"type\":\"scatter\"},{\"line\":{\"color\":\"#1B70C8\",\"dash\":\"dash\"},\"mode\":\"lines\",\"name\":\"LR\",\"x\":[\"2016-01-31\",\"2016-02-29\",\"2016-03-31\",\"2016-04-30\",\"2016-05-31\",\"2016-06-30\",\"2016-07-31\",\"2016-08-31\",\"2016-09-30\",\"2016-10-31\",\"2016-11-30\",\"2016-12-31\",\"2017-01-31\",\"2017-02-28\",\"2017-03-31\",\"2017-04-30\",\"2017-05-31\",\"2017-06-30\",\"2017-07-31\",\"2017-08-31\",\"2017-09-30\",\"2017-10-31\",\"2017-11-30\",\"2017-12-31\",\"2018-01-31\",\"2018-02-28\",\"2018-03-31\",\"2018-04-30\",\"2018-05-31\",\"2018-06-30\",\"2018-07-31\",\"2018-08-31\",\"2018-09-30\",\"2018-11-30\",\"2018-12-31\",\"2019-01-31\",\"2019-02-28\",\"2019-03-31\",\"2019-04-30\",\"2019-05-31\",\"2019-06-30\",\"2019-07-31\",\"2019-08-31\",\"2019-09-30\",\"2019-10-31\",\"2019-11-30\",\"2019-12-31\",\"2020-01-31\",\"2020-02-29\",\"2020-03-31\",\"2020-04-30\",\"2020-05-31\",\"2020-06-30\",\"2020-07-31\",\"2020-08-31\",\"2020-09-30\",\"2020-10-31\",\"2020-11-30\",\"2020-12-31\",\"2021-01-31\",\"2021-02-28\",\"2021-03-31\",\"2021-04-30\",\"2021-05-31\",\"2021-06-30\",\"2021-07-31\",\"2021-08-31\",\"2021-09-30\",\"2021-10-31\",\"2021-11-30\",\"2021-12-31\",\"2022-01-31\",\"2022-02-28\",\"2022-03-31\",\"2022-04-30\",\"2022-05-31\",\"2022-06-30\",\"2022-07-31\",\"2022-08-31\",\"2022-09-30\",\"2022-10-31\",\"2022-11-30\",\"2022-12-31\"],\"y\":[1.384032929331532,1.4909328038943812,1.597832678457216,1.704732553020051,1.811632427582886,1.918532302145735,2.02543217670857,2.132332051271405,2.239231925834254,2.346131800397089,2.4530316749599237,2.559931549522773,2.6668314240856077,2.7737312986484426,2.8806311732112775,2.9875310477741266,3.0944309223369615,3.2013307968997964,3.3082306714626455,3.4151305460254804,3.5220304205883153,3.62893029515115,3.7358301697139993,3.842730044276834,3.949629918839669,4.056529793402518,4.163429667965353,4.270329542528188,4.377229417091023,4.484129291653872,4.591029166216707,4.697929040779542,4.804828915342391,5.018628664468061,5.125528539030896,5.232428413593745,5.33932828815658,5.4462281627194145,5.553128037282264,5.6600279118450985,5.766927786407933,5.8738276609707825,5.980727535533617,6.087627410096452,6.194527284659287,6.301427159222136,6.408327033784964,6.515226908347806,6.622126782910648,6.72902665747349,6.835926532036332,6.94282640659916,7.049726281162002,7.156626155724844,7.263526030287686,7.370425904850528,7.477325779413356,7.584225653976198,7.69112552853904,7.798025403101882,7.904925277664724,8.011825152227551,8.118725026790393,8.225624901353235,8.332524775916077,8.439424650478905,8.546324525041747,8.65322439960459,8.760124274167431,8.867024148730273,8.973924023293115,9.080823897855943,9.187723772418785,9.294623646981627,9.401523521544469,9.508423396107297,9.615323270670139,9.72222314523298,9.829123019795823,9.936022894358665,10.042922768921507,10.149822643484335,10.256722518047177],\"type\":\"scatter\"},{\"line\":{\"color\":\"#3691E9\"},\"mode\":\"lines\",\"name\":\"SVR\",\"x\":[\"2016-01-31\",\"2016-02-29\",\"2016-03-31\",\"2016-04-30\",\"2016-05-31\",\"2016-06-30\",\"2016-07-31\",\"2016-08-31\",\"2016-09-30\",\"2016-10-31\",\"2016-11-30\",\"2016-12-31\",\"2017-01-31\",\"2017-02-28\",\"2017-03-31\",\"2017-04-30\",\"2017-05-31\",\"2017-06-30\",\"2017-07-31\",\"2017-08-31\",\"2017-09-30\",\"2017-10-31\",\"2017-11-30\",\"2017-12-31\",\"2018-01-31\",\"2018-02-28\",\"2018-03-31\",\"2018-04-30\",\"2018-05-31\",\"2018-06-30\",\"2018-07-31\",\"2018-08-31\",\"2018-09-30\",\"2018-11-30\",\"2018-12-31\",\"2019-01-31\",\"2019-02-28\",\"2019-03-31\",\"2019-04-30\",\"2019-05-31\",\"2019-06-30\",\"2019-07-31\",\"2019-08-31\",\"2019-09-30\",\"2019-10-31\",\"2019-11-30\",\"2019-12-31\",\"2020-01-31\",\"2020-02-29\",\"2020-03-31\",\"2020-04-30\",\"2020-05-31\",\"2020-06-30\",\"2020-07-31\",\"2020-08-31\",\"2020-09-30\",\"2020-10-31\",\"2020-11-30\",\"2020-12-31\",\"2021-01-31\",\"2021-02-28\",\"2021-03-31\",\"2021-04-30\",\"2021-05-31\",\"2021-06-30\",\"2021-07-31\",\"2021-08-31\",\"2021-09-30\",\"2021-10-31\",\"2021-11-30\",\"2021-12-31\",\"2022-01-31\",\"2022-02-28\",\"2022-03-31\",\"2022-04-30\",\"2022-05-31\",\"2022-06-30\",\"2022-07-31\",\"2022-08-31\",\"2022-09-30\",\"2022-10-31\",\"2022-11-30\",\"2022-12-31\"],\"y\":[3.306570294517136,2.799774219697495,2.386345588338682,2.1000008424841416,1.9590506350369923,1.9652093601241702,2.106019468958207,2.3596231726927837,2.6998566381982076,3.0997335525185408,3.532323142738075,3.969421439120981,4.379636910451813,4.7279775459042295,4.978470192460217,5.099960594631068,5.0736241361375,4.8995908323722865,4.5999907791472925,4.216755143329405,3.804269387319773,3.41875896622632,3.1073814681151952,2.900000709206024,2.8055945503776187,2.8136755005921628,2.899626596793964,3.031991978272471,3.179694893029848,3.3177080326601884,3.430482417841476,3.5130779722114065,3.570255869406667,3.6588369118617052,3.7184683639289804,3.7996963762527143,3.899885651715879,4.0063866250040885,4.09984168406395,4.161126604859682,4.180434127028981,4.165751740115141,4.147416104866559,4.1759523045666045,4.312095136715543,4.610371124162838,5.1001445364751525,5.769689771092274,6.558897300118147,7.3643730490833885,8.057321003114833,8.510674395716023,8.628742327207405,8.371317112731496,7.765328641279014,6.900499286785102,5.910027736960697,4.941647838420294,4.127071416547941,3.5579942530502184,3.2745289863723337,3.2679533209055815,3.4953568969204856,3.9004991756806824,4.433900457745446,5.066131818677404,5.79097968516766,6.61865464526271,7.562345457989993,8.623249620080603,9.779287153969909,10.981157268305413,12.156856552453721,13.223123409959827,14.100335327120959,14.726679335193507,15.068013258279441,15.121393346334202,14.912169326739482,14.486220825469134,13.899882419712938,13.210215588223729,12.467657847915095],\"type\":\"scatter\"}],                        {\"template\":{\"data\":{\"histogram2dcontour\":[{\"type\":\"histogram2dcontour\",\"colorbar\":{\"outlinewidth\":0,\"ticks\":\"\"},\"colorscale\":[[0.0,\"#0d0887\"],[0.1111111111111111,\"#46039f\"],[0.2222222222222222,\"#7201a8\"],[0.3333333333333333,\"#9c179e\"],[0.4444444444444444,\"#bd3786\"],[0.5555555555555556,\"#d8576b\"],[0.6666666666666666,\"#ed7953\"],[0.7777777777777778,\"#fb9f3a\"],[0.8888888888888888,\"#fdca26\"],[1.0,\"#f0f921\"]]}],\"choropleth\":[{\"type\":\"choropleth\",\"colorbar\":{\"outlinewidth\":0,\"ticks\":\"\"}}],\"histogram2d\":[{\"type\":\"histogram2d\",\"colorbar\":{\"outlinewidth\":0,\"ticks\":\"\"},\"colorscale\":[[0.0,\"#0d0887\"],[0.1111111111111111,\"#46039f\"],[0.2222222222222222,\"#7201a8\"],[0.3333333333333333,\"#9c179e\"],[0.4444444444444444,\"#bd3786\"],[0.5555555555555556,\"#d8576b\"],[0.6666666666666666,\"#ed7953\"],[0.7777777777777778,\"#fb9f3a\"],[0.8888888888888888,\"#fdca26\"],[1.0,\"#f0f921\"]]}],\"heatmap\":[{\"type\":\"heatmap\",\"colorbar\":{\"outlinewidth\":0,\"ticks\":\"\"},\"colorscale\":[[0.0,\"#0d0887\"],[0.1111111111111111,\"#46039f\"],[0.2222222222222222,\"#7201a8\"],[0.3333333333333333,\"#9c179e\"],[0.4444444444444444,\"#bd3786\"],[0.5555555555555556,\"#d8576b\"],[0.6666666666666666,\"#ed7953\"],[0.7777777777777778,\"#fb9f3a\"],[0.8888888888888888,\"#fdca26\"],[1.0,\"#f0f921\"]]}],\"heatmapgl\":[{\"type\":\"heatmapgl\",\"colorbar\":{\"outlinewidth\":0,\"ticks\":\"\"},\"colorscale\":[[0.0,\"#0d0887\"],[0.1111111111111111,\"#46039f\"],[0.2222222222222222,\"#7201a8\"],[0.3333333333333333,\"#9c179e\"],[0.4444444444444444,\"#bd3786\"],[0.5555555555555556,\"#d8576b\"],[0.6666666666666666,\"#ed7953\"],[0.7777777777777778,\"#fb9f3a\"],[0.8888888888888888,\"#fdca26\"],[1.0,\"#f0f921\"]]}],\"contourcarpet\":[{\"type\":\"contourcarpet\",\"colorbar\":{\"outlinewidth\":0,\"ticks\":\"\"}}],\"contour\":[{\"type\":\"contour\",\"colorbar\":{\"outlinewidth\":0,\"ticks\":\"\"},\"colorscale\":[[0.0,\"#0d0887\"],[0.1111111111111111,\"#46039f\"],[0.2222222222222222,\"#7201a8\"],[0.3333333333333333,\"#9c179e\"],[0.4444444444444444,\"#bd3786\"],[0.5555555555555556,\"#d8576b\"],[0.6666666666666666,\"#ed7953\"],[0.7777777777777778,\"#fb9f3a\"],[0.8888888888888888,\"#fdca26\"],[1.0,\"#f0f921\"]]}],\"surface\":[{\"type\":\"surface\",\"colorbar\":{\"outlinewidth\":0,\"ticks\":\"\"},\"colorscale\":[[0.0,\"#0d0887\"],[0.1111111111111111,\"#46039f\"],[0.2222222222222222,\"#7201a8\"],[0.3333333333333333,\"#9c179e\"],[0.4444444444444444,\"#bd3786\"],[0.5555555555555556,\"#d8576b\"],[0.6666666666666666,\"#ed7953\"],[0.7777777777777778,\"#fb9f3a\"],[0.8888888888888888,\"#fdca26\"],[1.0,\"#f0f921\"]]}],\"mesh3d\":[{\"type\":\"mesh3d\",\"colorbar\":{\"outlinewidth\":0,\"ticks\":\"\"}}],\"scatter\":[{\"fillpattern\":{\"fillmode\":\"overlay\",\"size\":10,\"solidity\":0.2},\"type\":\"scatter\"}],\"parcoords\":[{\"type\":\"parcoords\",\"line\":{\"colorbar\":{\"outlinewidth\":0,\"ticks\":\"\"}}}],\"scatterpolargl\":[{\"type\":\"scatterpolargl\",\"marker\":{\"colorbar\":{\"outlinewidth\":0,\"ticks\":\"\"}}}],\"bar\":[{\"error_x\":{\"color\":\"#2a3f5f\"},\"error_y\":{\"color\":\"#2a3f5f\"},\"marker\":{\"line\":{\"color\":\"#E5ECF6\",\"width\":0.5},\"pattern\":{\"fillmode\":\"overlay\",\"size\":10,\"solidity\":0.2}},\"type\":\"bar\"}],\"scattergeo\":[{\"type\":\"scattergeo\",\"marker\":{\"colorbar\":{\"outlinewidth\":0,\"ticks\":\"\"}}}],\"scatterpolar\":[{\"type\":\"scatterpolar\",\"marker\":{\"colorbar\":{\"outlinewidth\":0,\"ticks\":\"\"}}}],\"histogram\":[{\"marker\":{\"pattern\":{\"fillmode\":\"overlay\",\"size\":10,\"solidity\":0.2}},\"type\":\"histogram\"}],\"scattergl\":[{\"type\":\"scattergl\",\"marker\":{\"colorbar\":{\"outlinewidth\":0,\"ticks\":\"\"}}}],\"scatter3d\":[{\"type\":\"scatter3d\",\"line\":{\"colorbar\":{\"outlinewidth\":0,\"ticks\":\"\"}},\"marker\":{\"colorbar\":{\"outlinewidth\":0,\"ticks\":\"\"}}}],\"scattermapbox\":[{\"type\":\"scattermapbox\",\"marker\":{\"colorbar\":{\"outlinewidth\":0,\"ticks\":\"\"}}}],\"scatterternary\":[{\"type\":\"scatterternary\",\"marker\":{\"colorbar\":{\"outlinewidth\":0,\"ticks\":\"\"}}}],\"scattercarpet\":[{\"type\":\"scattercarpet\",\"marker\":{\"colorbar\":{\"outlinewidth\":0,\"ticks\":\"\"}}}],\"carpet\":[{\"aaxis\":{\"endlinecolor\":\"#2a3f5f\",\"gridcolor\":\"white\",\"linecolor\":\"white\",\"minorgridcolor\":\"white\",\"startlinecolor\":\"#2a3f5f\"},\"baxis\":{\"endlinecolor\":\"#2a3f5f\",\"gridcolor\":\"white\",\"linecolor\":\"white\",\"minorgridcolor\":\"white\",\"startlinecolor\":\"#2a3f5f\"},\"type\":\"carpet\"}],\"table\":[{\"cells\":{\"fill\":{\"color\":\"#EBF0F8\"},\"line\":{\"color\":\"white\"}},\"header\":{\"fill\":{\"color\":\"#C8D4E3\"},\"line\":{\"color\":\"white\"}},\"type\":\"table\"}],\"barpolar\":[{\"marker\":{\"line\":{\"color\":\"#E5ECF6\",\"width\":0.5},\"pattern\":{\"fillmode\":\"overlay\",\"size\":10,\"solidity\":0.2}},\"type\":\"barpolar\"}],\"pie\":[{\"automargin\":true,\"type\":\"pie\"}]},\"layout\":{\"autotypenumbers\":\"strict\",\"colorway\":[\"#636efa\",\"#EF553B\",\"#00cc96\",\"#ab63fa\",\"#FFA15A\",\"#19d3f3\",\"#FF6692\",\"#B6E880\",\"#FF97FF\",\"#FECB52\"],\"font\":{\"color\":\"#2a3f5f\"},\"hovermode\":\"closest\",\"hoverlabel\":{\"align\":\"left\"},\"paper_bgcolor\":\"white\",\"plot_bgcolor\":\"#E5ECF6\",\"polar\":{\"bgcolor\":\"#E5ECF6\",\"angularaxis\":{\"gridcolor\":\"white\",\"linecolor\":\"white\",\"ticks\":\"\"},\"radialaxis\":{\"gridcolor\":\"white\",\"linecolor\":\"white\",\"ticks\":\"\"}},\"ternary\":{\"bgcolor\":\"#E5ECF6\",\"aaxis\":{\"gridcolor\":\"white\",\"linecolor\":\"white\",\"ticks\":\"\"},\"baxis\":{\"gridcolor\":\"white\",\"linecolor\":\"white\",\"ticks\":\"\"},\"caxis\":{\"gridcolor\":\"white\",\"linecolor\":\"white\",\"ticks\":\"\"}},\"coloraxis\":{\"colorbar\":{\"outlinewidth\":0,\"ticks\":\"\"}},\"colorscale\":{\"sequential\":[[0.0,\"#0d0887\"],[0.1111111111111111,\"#46039f\"],[0.2222222222222222,\"#7201a8\"],[0.3333333333333333,\"#9c179e\"],[0.4444444444444444,\"#bd3786\"],[0.5555555555555556,\"#d8576b\"],[0.6666666666666666,\"#ed7953\"],[0.7777777777777778,\"#fb9f3a\"],[0.8888888888888888,\"#fdca26\"],[1.0,\"#f0f921\"]],\"sequentialminus\":[[0.0,\"#0d0887\"],[0.1111111111111111,\"#46039f\"],[0.2222222222222222,\"#7201a8\"],[0.3333333333333333,\"#9c179e\"],[0.4444444444444444,\"#bd3786\"],[0.5555555555555556,\"#d8576b\"],[0.6666666666666666,\"#ed7953\"],[0.7777777777777778,\"#fb9f3a\"],[0.8888888888888888,\"#fdca26\"],[1.0,\"#f0f921\"]],\"diverging\":[[0,\"#8e0152\"],[0.1,\"#c51b7d\"],[0.2,\"#de77ae\"],[0.3,\"#f1b6da\"],[0.4,\"#fde0ef\"],[0.5,\"#f7f7f7\"],[0.6,\"#e6f5d0\"],[0.7,\"#b8e186\"],[0.8,\"#7fbc41\"],[0.9,\"#4d9221\"],[1,\"#276419\"]]},\"xaxis\":{\"gridcolor\":\"white\",\"linecolor\":\"white\",\"ticks\":\"\",\"title\":{\"standoff\":15},\"zerolinecolor\":\"white\",\"automargin\":true,\"zerolinewidth\":2},\"yaxis\":{\"gridcolor\":\"white\",\"linecolor\":\"white\",\"ticks\":\"\",\"title\":{\"standoff\":15},\"zerolinecolor\":\"white\",\"automargin\":true,\"zerolinewidth\":2},\"scene\":{\"xaxis\":{\"backgroundcolor\":\"#E5ECF6\",\"gridcolor\":\"white\",\"linecolor\":\"white\",\"showbackground\":true,\"ticks\":\"\",\"zerolinecolor\":\"white\",\"gridwidth\":2},\"yaxis\":{\"backgroundcolor\":\"#E5ECF6\",\"gridcolor\":\"white\",\"linecolor\":\"white\",\"showbackground\":true,\"ticks\":\"\",\"zerolinecolor\":\"white\",\"gridwidth\":2},\"zaxis\":{\"backgroundcolor\":\"#E5ECF6\",\"gridcolor\":\"white\",\"linecolor\":\"white\",\"showbackground\":true,\"ticks\":\"\",\"zerolinecolor\":\"white\",\"gridwidth\":2}},\"shapedefaults\":{\"line\":{\"color\":\"#2a3f5f\"}},\"annotationdefaults\":{\"arrowcolor\":\"#2a3f5f\",\"arrowhead\":0,\"arrowwidth\":1},\"geo\":{\"bgcolor\":\"white\",\"landcolor\":\"#E5ECF6\",\"subunitcolor\":\"white\",\"showland\":true,\"showlakes\":true,\"lakecolor\":\"white\"},\"title\":{\"x\":0.05},\"mapbox\":{\"style\":\"light\"}}},\"xaxis\":{\"tickfont\":{\"size\":18},\"range\":[\"2016-01-01\",\"2023-01-30\"],\"tickformat\":\"%m - %Y\",\"dtick\":\"M3\",\"ticklabelmode\":\"period\",\"title\":{\"font\":{\"size\":20,\"color\":\"#3691E9\"},\"text\":\"<b>Month - Year</b>\"}},\"title\":{\"font\":{\"size\":30,\"color\":\"#1B70C8\"},\"text\":\"<b>Twitter Aquino Allegations Monthly SVR and Linear Regression Model</b>\"},\"yaxis\":{\"title\":{\"font\":{\"size\":20,\"color\":\"#3691E9\"},\"text\":\"<b>Number of Tweets</b>\"}},\"height\":600,\"plot_bgcolor\":\"#99CEFF\",\"font\":{\"family\":\"Arial Black\",\"size\":18}},                        {\"responsive\": true}                    ).then(function(){\n",
              "                            \n",
              "var gd = document.getElementById('bdb9d697-518c-4676-b482-45f37746b375');\n",
              "var x = new MutationObserver(function (mutations, observer) {{\n",
              "        var display = window.getComputedStyle(gd).display;\n",
              "        if (!display || display === 'none') {{\n",
              "            console.log([gd, 'removed!']);\n",
              "            Plotly.purge(gd);\n",
              "            observer.disconnect();\n",
              "        }}\n",
              "}});\n",
              "\n",
              "// Listen for the removal of the full notebook cells\n",
              "var notebookContainer = gd.closest('#notebook-container');\n",
              "if (notebookContainer) {{\n",
              "    x.observe(notebookContainer, {childList: true});\n",
              "}}\n",
              "\n",
              "// Listen for the clearing of the current output cell\n",
              "var outputEl = gd.closest('.output');\n",
              "if (outputEl) {{\n",
              "    x.observe(outputEl, {childList: true});\n",
              "}}\n",
              "\n",
              "                        })                };                            </script>        </div>\n",
              "</body>\n",
              "</html>"
            ]
          },
          "metadata": {}
        }
      ],
      "source": [
        "## Perform regression modeling\n",
        "df_reg['Month_Year'] = df_reg['date'].dt.to_period('M')\n",
        "MY_counts = df_reg['Month_Year'].value_counts()\n",
        "# Create a new DataFrame\n",
        "MY_reg = pd.DataFrame({'date': MY_counts.index, 'count': MY_counts.values})\n",
        "MY_reg = MY_reg.sort_values('date')\n",
        "\n",
        "# Convert datetime to int\n",
        "x = MY_reg['date'].astype(int) / 10**9  # Convert to seconds (UNIX epoch start)\n",
        "x = x.values.reshape(-1, 1)\n",
        "\n",
        "y = MY_reg['count']\n",
        "\n",
        "#---------------------------------------------------------------------------\n",
        "# Linear Regression and SVR Model with Hyperparameter Optimization\n",
        "#---------------------------------------------------------------------------\n",
        "# Stastical approach\n",
        "x_lms = sm.add_constant(x)\n",
        "linear_model_stat = sm.OLS(y, x_lms)\n",
        "lms_results = linear_model_stat.fit()\n",
        "p_values = lms_results.pvalues[1:]\n",
        "\n",
        "# Machine learning approach (no p-values)\n",
        "linear_model = LinearRegression()\n",
        "linear_model.fit(x_lms, y)\n",
        "y_linear_pred = linear_model.predict(x_lms)\n",
        "\n",
        "# Split the data into train and test sets\n",
        "x_train, x_test, y_train, y_test = train_test_split(x, y, test_size=0.2, random_state=42)\n",
        "\n",
        "# Create a pipeline with StandardScaler and SVR\n",
        "pipeline = Pipeline([('scaler', StandardScaler()),\n",
        "                     ('svr', SVR(kernel='rbf'))])\n",
        "\n",
        "# Define the parameter grid for hyperparameter optimization\n",
        "#param_grid = {'svr__C': [10000, 1000000, 100],\n",
        "#              'svr__gamma': [10, 1000, 100]}\n",
        "param_grid = {'svr__C': [0.01,0.1,10],\n",
        "              'svr__gamma': [0.1,1,10,100, 1000]}\n",
        "\n",
        "# Perform grid search with cross-validation on train data\n",
        "grid_search = GridSearchCV(pipeline, param_grid)\n",
        "\n",
        "\n",
        "grid_search.fit(x_train, y_train)\n",
        "\n",
        "# Predict using best model on test data\n",
        "best_svr = grid_search.best_estimator_\n",
        "y_svr_pred_test = best_svr.predict(x_test)\n",
        "\n",
        "# Calculate R2 and RMSE for linear regression model\n",
        "linear_r2 = r2_score(y, y_linear_pred)\n",
        "linear_rmse = np.sqrt(mean_squared_error(y, y_linear_pred))\n",
        "\n",
        "print(\"Model Evaluation\")\n",
        "print(\"\\nLinear Regression: RMSE=%.2f, R2=%.2f\" % (linear_rmse, linear_r2))\n",
        "for i, p_value in enumerate(p_values.index):\n",
        "  print(f'P({p_value}): {p_values[i]}')\n",
        "\n",
        "# Calculate R2 and RMSE for SVR model\n",
        "svr_r2 = r2_score(y_test, y_svr_pred_test)\n",
        "svr_rmse = np.sqrt(mean_squared_error(y_test, y_svr_pred_test))\n",
        "\n",
        "print(\"\\nSupport Vector Regression: RMSE=%.2f, R2=%.2f\" % (svr_rmse, svr_r2))\n",
        "print(\"Hyperparameters:\", best_svr, \"\\n\")\n",
        "\n",
        "if any(p_values <= 0.05):\n",
        "  print(\"There is a significant relationship between the predictor and the response.\\n\")\n",
        "else:\n",
        "  print(\"There is no significant relationship between the predictor and the response.\\n\")\n",
        "\n",
        "# Plot the model\n",
        "xtt = MY_reg['date'].dt.strftime('%Y-%m-%d')\n",
        "scatter_actual = go.Scatter(x=xtt, y=y, mode='markers', name='Actual', marker=dict(color='#FFE459', opacity=1))\n",
        "\n",
        "line_regression = go.Scatter(x=xtt, y=y_linear_pred, mode='lines', name='LR', line=dict(color='#1B70C8', dash='dash'))\n",
        "\n",
        "y_svr_pred = best_svr.predict(x) # Plot on all data\n",
        "line_svr = go.Scatter(x=xtt, y=y_svr_pred, mode='lines', name='SVR', line=dict(color='#3691E9'))\n",
        "\n",
        "data = [scatter_actual, line_regression, line_svr]\n",
        "\n",
        "fig = go.Figure(data=data)\n",
        "\n",
        "# Calculate the minimum and maximum dates\n",
        "min_date = datetime.strptime(xtt.min(), \"%Y-%m-%d\")\n",
        "max_date = datetime.strptime(xtt.max(), \"%Y-%m-%d\")\n",
        "\n",
        "# Add one month to the minimum and maximum dates\n",
        "min_date = min_date - timedelta(days=30)\n",
        "max_date = max_date + timedelta(days=30)\n",
        "\n",
        "fig.update_xaxes(\n",
        "    range=[min_date.strftime(\"%Y-%m-%d\"), max_date.strftime(\"%Y-%m-%d\")],\n",
        "    tickformat=\"%m - %Y\",\n",
        "    dtick=\"M3\",\n",
        "    ticklabelmode=\"period\",\n",
        "    #tickangle=90,\n",
        "    tickfont=dict(size=18), # Size of x-axis labels (tweak this)\n",
        ")\n",
        "\n",
        "fig.update_layout(\n",
        "    height=600,\n",
        "    title=dict(text='<b>Twitter Aquino Allegations Monthly SVR and Linear Regression Model</b>', font=dict(size=30, color='#1B70C8')), # Size and color of title (tweak this)\n",
        "    xaxis_title=dict(text='<b>Month - Year</b>', font=dict(size=20, color='#3691E9')), # Size of x-axis header (tweak this)\n",
        "    yaxis_title=dict(text='<b>Number of Tweets</b>', font=dict(size=20, color='#3691E9')), # Size of y-axis header (tweak this)\n",
        "    plot_bgcolor='#99CEFF' # Color of background (tweak this)\n",
        ")\n",
        "\n",
        "fig.update_layout(\n",
        "    font=dict(\n",
        "        family=\"Arial Black\",\n",
        "        size=18,\n",
        "    ),\n",
        ")\n",
        "fig.show()"
      ],
      "id": "fUuCYpvmOBX5"
    },
    {
      "cell_type": "markdown",
      "source": [
        "### **Interpretation**"
      ],
      "metadata": {
        "id": "rhLJx2_wRx0s"
      },
      "id": "rhLJx2_wRx0s"
    },
    {
      "cell_type": "markdown",
      "metadata": {
        "id": "BgIvEUgQtcJl"
      },
      "source": [
        "These models were used to discover a pattern on the volume of dataset through time. Now, in observing the monthly tweet count per year, the number of tweets gradually increases. Implying that every year, there is a **significant increase** of Twitter **influencers/trolls/users** that contribute in the **spread of mis/disinformation**. There is also an **observable pattern** in the **SVR model** wherein **tweet count** is at **maximum** during the months of **April to August**."
      ],
      "id": "BgIvEUgQtcJl"
    },
    {
      "cell_type": "markdown",
      "metadata": {
        "id": "nkbDUs_Lp5MS"
      },
      "source": [
        "In exploring the **slope with the greatest amount of tweets** (2022), these are the following **major events** that occurred in the Philippines.\n",
        "\n",
        "***On April-June 2022***: A lot of the topics tied in social media during the 2022 National Elections revolves around the Marcoses, Robredos, and more importantly the Aquinos. Since these three have historical links, topics such as the EDSA Revolution, Ninoy Aquino's unresolved death and contribution to the nation emerges again as the one of the trending topics among the Filipinos during this time.\n",
        "\n",
        "***On July 2022***: This is when President Bongbong Marcos was set to deliver his first State of the Nation Address (SONA) at the Batasang Pambansa Complex. This major event in the Philippines resurfaced the events about Martial Law during Ferdinand Marcos' reign. As such, since the Aquinos were a key player in toppling the dictatorial rule of Marcos, hearsays or unproven claims tend to arise as well.\n",
        "\n",
        "***On August 2022***: As confirmed by the National Historical Commission of the Philippines (NHCP), Ninoy Aquino is declared as a national hero. As such, during the month of National Heroes' Day, there is a hot debate in social media whether Ninoy Aquino deserves the title or not. Unfortunately, many Twitter users rely on claims that are already deemed false to support their arguments.\n",
        "\n",
        "However, this is just the tip of the iceberg! We still need to know why these influx of tweets occur every year (why is there a pattern?). With that, we explore the next analysis."
      ],
      "id": "nkbDUs_Lp5MS"
    },
    {
      "cell_type": "markdown",
      "source": [
        "--------------------"
      ],
      "metadata": {
        "id": "8I1FLerWSQBY"
      },
      "id": "8I1FLerWSQBY"
    },
    {
      "cell_type": "markdown",
      "metadata": {
        "id": "eneJjso-lgzX"
      },
      "source": [
        "### **B. Peak Event Detection**"
      ],
      "id": "eneJjso-lgzX"
    },
    {
      "cell_type": "code",
      "execution_count": null,
      "metadata": {
        "colab": {
          "base_uri": "https://localhost:8080/",
          "height": 617
        },
        "id": "1KfCCUFS75vu",
        "outputId": "c47a9ee1-acd1-4bc7-8c08-46bbf60de7f7"
      },
      "outputs": [
        {
          "output_type": "display_data",
          "data": {
            "text/html": [
              "<html>\n",
              "<head><meta charset=\"utf-8\" /></head>\n",
              "<body>\n",
              "    <div>            <script src=\"https://cdnjs.cloudflare.com/ajax/libs/mathjax/2.7.5/MathJax.js?config=TeX-AMS-MML_SVG\"></script><script type=\"text/javascript\">if (window.MathJax && window.MathJax.Hub && window.MathJax.Hub.Config) {window.MathJax.Hub.Config({SVG: {font: \"STIX-Web\"}});}</script>                <script type=\"text/javascript\">window.PlotlyConfig = {MathJaxConfig: 'local'};</script>\n",
              "        <script src=\"https://cdn.plot.ly/plotly-2.18.2.min.js\"></script>                <div id=\"f181c3e8-2b00-4246-82af-1e00db6b5cb6\" class=\"plotly-graph-div\" style=\"height:600px; width:100%;\"></div>            <script type=\"text/javascript\">                                    window.PLOTLYENV=window.PLOTLYENV || {};                                    if (document.getElementById(\"f181c3e8-2b00-4246-82af-1e00db6b5cb6\")) {                    Plotly.newPlot(                        \"f181c3e8-2b00-4246-82af-1e00db6b5cb6\",                        [{\"hovertext\":[\"2016-01-26\",\"2016-02-09\",\"2016-02-15\",\"2016-02-20\",\"2016-02-22\",\"2016-02-24\",\"2016-02-25\",\"2016-02-26\",\"2016-02-27\",\"2016-02-28\",\"2016-03-20\",\"2016-04-24\",\"2016-04-27\",\"2016-05-08\",\"2016-05-15\",\"2016-05-26\",\"2016-06-19\",\"2016-06-29\",\"2016-07-01\",\"2016-08-05\",\"2016-08-08\",\"2016-08-11\",\"2016-08-14\",\"2016-08-15\",\"2016-08-18\",\"2016-08-20\",\"2016-08-21\",\"2016-08-31\",\"2016-09-10\",\"2016-09-12\",\"2016-09-24\",\"2016-10-03\",\"2016-10-05\",\"2016-10-07\",\"2016-11-05\",\"2016-11-18\",\"2016-11-19\",\"2016-11-22\",\"2016-11-25\",\"2016-12-05\",\"2017-01-25\",\"2017-01-26\",\"2017-02-02\",\"2017-02-06\",\"2017-02-17\",\"2017-02-22\",\"2017-02-25\",\"2017-02-26\",\"2017-03-10\",\"2017-04-03\",\"2017-04-05\",\"2017-04-06\",\"2017-04-10\",\"2017-04-12\",\"2017-05-01\",\"2017-05-17\",\"2017-05-23\",\"2017-05-24\",\"2017-05-25\",\"2017-05-26\",\"2017-06-01\",\"2017-06-03\",\"2017-06-09\",\"2017-06-17\",\"2017-06-30\",\"2017-07-04\",\"2017-07-08\",\"2017-07-20\",\"2017-07-21\",\"2017-07-22\",\"2017-08-04\",\"2017-08-11\",\"2017-08-18\",\"2017-08-21\",\"2017-08-30\",\"2017-09-21\",\"2017-10-09\",\"2017-10-11\",\"2017-11-11\",\"2017-11-12\",\"2017-11-14\",\"2017-11-19\",\"2017-11-24\",\"2017-11-29\",\"2017-11-30\",\"2017-12-12\",\"2017-12-13\",\"2017-12-19\",\"2018-01-25\",\"2018-01-26\",\"2018-02-11\",\"2018-02-13\",\"2018-02-25\",\"2018-02-27\",\"2018-03-01\",\"2018-03-14\",\"2018-03-27\",\"2018-04-10\",\"2018-04-18\",\"2018-04-21\",\"2018-05-11\",\"2018-05-26\",\"2018-05-30\",\"2018-06-04\",\"2018-06-05\",\"2018-06-18\",\"2018-07-22\",\"2018-07-30\",\"2018-08-17\",\"2018-08-20\",\"2018-08-21\",\"2018-08-22\",\"2018-08-23\",\"2018-08-28\",\"2018-09-02\",\"2018-09-06\",\"2018-09-21\",\"2018-09-24\",\"2018-09-25\",\"2018-09-28\",\"2018-11-02\",\"2018-11-03\",\"2018-11-27\",\"2018-12-07\",\"2019-01-05\",\"2019-01-11\",\"2019-01-15\",\"2019-01-19\",\"2019-01-23\",\"2019-01-25\",\"2019-02-13\",\"2019-02-20\",\"2019-02-25\",\"2019-02-26\",\"2019-03-02\",\"2019-03-07\",\"2019-03-14\",\"2019-03-20\",\"2019-04-03\",\"2019-04-17\",\"2019-04-23\",\"2019-04-25\",\"2019-05-16\",\"2019-05-25\",\"2019-05-27\",\"2019-05-29\",\"2019-06-02\",\"2019-06-05\",\"2019-06-16\",\"2019-06-18\",\"2019-06-20\",\"2019-06-24\",\"2019-06-26\",\"2019-06-29\",\"2019-07-23\",\"2019-08-02\",\"2019-08-04\",\"2019-08-08\",\"2019-08-12\",\"2019-08-15\",\"2019-08-21\",\"2019-08-28\",\"2019-09-05\",\"2019-09-12\",\"2019-09-19\",\"2019-09-20\",\"2019-09-21\",\"2019-09-23\",\"2019-10-05\",\"2019-10-09\",\"2019-11-05\",\"2019-11-12\",\"2019-11-14\",\"2019-12-15\",\"2019-12-19\",\"2019-12-23\",\"2019-12-27\",\"2019-12-31\",\"2020-01-09\",\"2020-01-11\",\"2020-01-13\",\"2020-01-17\",\"2020-01-23\",\"2020-01-25\",\"2020-01-26\",\"2020-01-27\",\"2020-01-31\",\"2020-02-01\",\"2020-02-04\",\"2020-02-10\",\"2020-02-24\",\"2020-02-25\",\"2020-02-26\",\"2020-03-02\",\"2020-03-03\",\"2020-03-04\",\"2020-03-07\",\"2020-03-09\",\"2020-04-05\",\"2020-04-08\",\"2020-04-19\",\"2020-04-22\",\"2020-04-24\",\"2020-04-25\",\"2020-05-03\",\"2020-05-06\",\"2020-05-07\",\"2020-05-09\",\"2020-05-12\",\"2020-05-16\",\"2020-05-18\",\"2020-05-26\",\"2020-05-29\",\"2020-06-07\",\"2020-06-08\",\"2020-06-17\",\"2020-06-18\",\"2020-06-25\",\"2020-06-26\",\"2020-06-27\",\"2020-06-28\",\"2020-06-29\",\"2020-07-03\",\"2020-07-05\",\"2020-07-07\",\"2020-07-09\",\"2020-07-15\",\"2020-07-16\",\"2020-07-18\",\"2020-07-22\",\"2020-08-01\",\"2020-08-02\",\"2020-08-06\",\"2020-08-07\",\"2020-08-08\",\"2020-08-20\",\"2020-08-21\",\"2020-08-22\",\"2020-08-26\",\"2020-09-03\",\"2020-09-04\",\"2020-09-11\",\"2020-09-13\",\"2020-09-15\",\"2020-09-19\",\"2020-09-20\",\"2020-10-01\",\"2020-10-18\",\"2020-10-26\",\"2020-11-01\",\"2020-11-02\",\"2020-11-29\",\"2020-12-04\",\"2020-12-06\",\"2020-12-26\",\"2021-01-12\",\"2021-01-22\",\"2021-01-25\",\"2021-01-26\",\"2021-01-29\",\"2021-02-02\",\"2021-02-17\",\"2021-02-20\",\"2021-02-25\",\"2021-02-26\",\"2021-02-27\",\"2021-03-12\",\"2021-04-04\",\"2021-05-10\",\"2021-05-17\",\"2021-05-25\",\"2021-05-31\",\"2021-06-04\",\"2021-06-10\",\"2021-06-24\",\"2021-06-25\",\"2021-06-26\",\"2021-07-05\",\"2021-07-06\",\"2021-07-21\",\"2021-07-28\",\"2021-07-29\",\"2021-08-11\",\"2021-08-12\",\"2021-08-21\",\"2021-08-22\",\"2021-08-24\",\"2021-09-07\",\"2021-09-10\",\"2021-09-11\",\"2021-09-12\",\"2021-09-14\",\"2021-09-16\",\"2021-09-19\",\"2021-09-21\",\"2021-09-23\",\"2021-09-25\",\"2021-09-28\",\"2021-09-29\",\"2021-10-09\",\"2021-10-10\",\"2021-10-13\",\"2021-10-23\",\"2021-10-26\",\"2021-10-30\",\"2021-10-31\",\"2021-11-04\",\"2021-11-05\",\"2021-11-10\",\"2021-11-12\",\"2021-11-15\",\"2021-11-29\",\"2021-12-01\",\"2021-12-02\",\"2021-12-03\",\"2021-12-04\",\"2021-12-07\",\"2021-12-08\",\"2021-12-11\",\"2021-12-15\",\"2021-12-17\",\"2021-12-19\",\"2021-12-21\",\"2021-12-28\",\"2021-12-29\",\"2022-01-01\",\"2022-01-18\",\"2022-01-20\",\"2022-01-25\",\"2022-01-26\",\"2022-01-27\",\"2022-02-01\",\"2022-02-04\",\"2022-02-07\",\"2022-02-11\",\"2022-02-12\",\"2022-02-13\",\"2022-02-14\",\"2022-02-17\",\"2022-02-18\",\"2022-02-19\",\"2022-02-20\",\"2022-02-21\",\"2022-02-23\",\"2022-02-24\",\"2022-02-25\",\"2022-02-26\",\"2022-02-28\",\"2022-03-03\",\"2022-03-05\",\"2022-03-07\",\"2022-03-09\",\"2022-03-10\",\"2022-03-11\",\"2022-03-17\",\"2022-03-18\",\"2022-03-22\",\"2022-03-23\",\"2022-03-24\",\"2022-03-25\",\"2022-03-26\",\"2022-03-27\",\"2022-03-31\",\"2022-04-02\",\"2022-04-04\",\"2022-04-05\",\"2022-04-06\",\"2022-04-07\",\"2022-04-08\",\"2022-04-12\",\"2022-04-13\",\"2022-04-16\",\"2022-04-21\",\"2022-04-22\",\"2022-04-23\",\"2022-04-24\",\"2022-04-30\",\"2022-05-01\",\"2022-05-05\",\"2022-05-06\",\"2022-05-07\",\"2022-05-08\",\"2022-05-09\",\"2022-05-10\",\"2022-05-11\",\"2022-05-13\",\"2022-05-14\",\"2022-05-15\",\"2022-05-18\",\"2022-05-20\",\"2022-05-21\",\"2022-05-24\",\"2022-05-25\",\"2022-05-27\",\"2022-06-05\",\"2022-06-06\",\"2022-06-07\",\"2022-06-08\",\"2022-06-12\",\"2022-06-13\",\"2022-06-14\",\"2022-06-17\",\"2022-06-18\",\"2022-06-24\",\"2022-06-27\",\"2022-06-29\",\"2022-07-01\",\"2022-07-03\",\"2022-07-04\",\"2022-07-05\",\"2022-07-06\",\"2022-07-08\",\"2022-07-09\",\"2022-07-13\",\"2022-07-14\",\"2022-07-15\",\"2022-07-17\",\"2022-07-18\",\"2022-07-19\",\"2022-07-20\",\"2022-07-21\",\"2022-07-22\",\"2022-07-23\",\"2022-07-30\",\"2022-08-04\",\"2022-08-07\",\"2022-08-08\",\"2022-08-12\",\"2022-08-14\",\"2022-08-15\",\"2022-08-16\",\"2022-08-18\",\"2022-08-19\",\"2022-08-20\",\"2022-08-21\",\"2022-08-22\",\"2022-08-24\",\"2022-08-25\",\"2022-08-26\",\"2022-08-27\",\"2022-09-08\",\"2022-09-09\",\"2022-09-21\",\"2022-09-25\",\"2022-09-28\",\"2022-10-01\",\"2022-10-03\",\"2022-10-05\",\"2022-10-06\",\"2022-10-07\",\"2022-10-09\",\"2022-10-11\",\"2022-10-13\",\"2022-10-14\",\"2022-10-16\",\"2022-10-25\",\"2022-10-26\",\"2022-10-28\",\"2022-10-29\",\"2022-11-02\",\"2022-11-03\",\"2022-11-05\",\"2022-11-07\",\"2022-11-09\",\"2022-11-19\",\"2022-11-21\",\"2022-11-24\",\"2022-11-27\",\"2022-11-28\",\"2022-11-30\",\"2022-12-01\",\"2022-12-02\",\"2022-12-03\",\"2022-12-04\",\"2022-12-06\",\"2022-12-07\",\"2022-12-08\",\"2022-12-13\",\"2022-12-15\",\"2022-12-19\",\"2022-12-22\",\"2022-12-23\",\"2022-12-25\",\"2022-12-28\"],\"line\":{\"color\":\"#1B70C8\"},\"mode\":\"lines\",\"name\":\"Tweet Data\",\"x\":[\"2016-01-26T00:00:00\",\"2016-02-09T00:00:00\",\"2016-02-15T00:00:00\",\"2016-02-20T00:00:00\",\"2016-02-22T00:00:00\",\"2016-02-24T00:00:00\",\"2016-02-25T00:00:00\",\"2016-02-26T00:00:00\",\"2016-02-27T00:00:00\",\"2016-02-28T00:00:00\",\"2016-03-20T00:00:00\",\"2016-04-24T00:00:00\",\"2016-04-27T00:00:00\",\"2016-05-08T00:00:00\",\"2016-05-15T00:00:00\",\"2016-05-26T00:00:00\",\"2016-06-19T00:00:00\",\"2016-06-29T00:00:00\",\"2016-07-01T00:00:00\",\"2016-08-05T00:00:00\",\"2016-08-08T00:00:00\",\"2016-08-11T00:00:00\",\"2016-08-14T00:00:00\",\"2016-08-15T00:00:00\",\"2016-08-18T00:00:00\",\"2016-08-20T00:00:00\",\"2016-08-21T00:00:00\",\"2016-08-31T00:00:00\",\"2016-09-10T00:00:00\",\"2016-09-12T00:00:00\",\"2016-09-24T00:00:00\",\"2016-10-03T00:00:00\",\"2016-10-05T00:00:00\",\"2016-10-07T00:00:00\",\"2016-11-05T00:00:00\",\"2016-11-18T00:00:00\",\"2016-11-19T00:00:00\",\"2016-11-22T00:00:00\",\"2016-11-25T00:00:00\",\"2016-12-05T00:00:00\",\"2017-01-25T00:00:00\",\"2017-01-26T00:00:00\",\"2017-02-02T00:00:00\",\"2017-02-06T00:00:00\",\"2017-02-17T00:00:00\",\"2017-02-22T00:00:00\",\"2017-02-25T00:00:00\",\"2017-02-26T00:00:00\",\"2017-03-10T00:00:00\",\"2017-04-03T00:00:00\",\"2017-04-05T00:00:00\",\"2017-04-06T00:00:00\",\"2017-04-10T00:00:00\",\"2017-04-12T00:00:00\",\"2017-05-01T00:00:00\",\"2017-05-17T00:00:00\",\"2017-05-23T00:00:00\",\"2017-05-24T00:00:00\",\"2017-05-25T00:00:00\",\"2017-05-26T00:00:00\",\"2017-06-01T00:00:00\",\"2017-06-03T00:00:00\",\"2017-06-09T00:00:00\",\"2017-06-17T00:00:00\",\"2017-06-30T00:00:00\",\"2017-07-04T00:00:00\",\"2017-07-08T00:00:00\",\"2017-07-20T00:00:00\",\"2017-07-21T00:00:00\",\"2017-07-22T00:00:00\",\"2017-08-04T00:00:00\",\"2017-08-11T00:00:00\",\"2017-08-18T00:00:00\",\"2017-08-21T00:00:00\",\"2017-08-30T00:00:00\",\"2017-09-21T00:00:00\",\"2017-10-09T00:00:00\",\"2017-10-11T00:00:00\",\"2017-11-11T00:00:00\",\"2017-11-12T00:00:00\",\"2017-11-14T00:00:00\",\"2017-11-19T00:00:00\",\"2017-11-24T00:00:00\",\"2017-11-29T00:00:00\",\"2017-11-30T00:00:00\",\"2017-12-12T00:00:00\",\"2017-12-13T00:00:00\",\"2017-12-19T00:00:00\",\"2018-01-25T00:00:00\",\"2018-01-26T00:00:00\",\"2018-02-11T00:00:00\",\"2018-02-13T00:00:00\",\"2018-02-25T00:00:00\",\"2018-02-27T00:00:00\",\"2018-03-01T00:00:00\",\"2018-03-14T00:00:00\",\"2018-03-27T00:00:00\",\"2018-04-10T00:00:00\",\"2018-04-18T00:00:00\",\"2018-04-21T00:00:00\",\"2018-05-11T00:00:00\",\"2018-05-26T00:00:00\",\"2018-05-30T00:00:00\",\"2018-06-04T00:00:00\",\"2018-06-05T00:00:00\",\"2018-06-18T00:00:00\",\"2018-07-22T00:00:00\",\"2018-07-30T00:00:00\",\"2018-08-17T00:00:00\",\"2018-08-20T00:00:00\",\"2018-08-21T00:00:00\",\"2018-08-22T00:00:00\",\"2018-08-23T00:00:00\",\"2018-08-28T00:00:00\",\"2018-09-02T00:00:00\",\"2018-09-06T00:00:00\",\"2018-09-21T00:00:00\",\"2018-09-24T00:00:00\",\"2018-09-25T00:00:00\",\"2018-09-28T00:00:00\",\"2018-11-02T00:00:00\",\"2018-11-03T00:00:00\",\"2018-11-27T00:00:00\",\"2018-12-07T00:00:00\",\"2019-01-05T00:00:00\",\"2019-01-11T00:00:00\",\"2019-01-15T00:00:00\",\"2019-01-19T00:00:00\",\"2019-01-23T00:00:00\",\"2019-01-25T00:00:00\",\"2019-02-13T00:00:00\",\"2019-02-20T00:00:00\",\"2019-02-25T00:00:00\",\"2019-02-26T00:00:00\",\"2019-03-02T00:00:00\",\"2019-03-07T00:00:00\",\"2019-03-14T00:00:00\",\"2019-03-20T00:00:00\",\"2019-04-03T00:00:00\",\"2019-04-17T00:00:00\",\"2019-04-23T00:00:00\",\"2019-04-25T00:00:00\",\"2019-05-16T00:00:00\",\"2019-05-25T00:00:00\",\"2019-05-27T00:00:00\",\"2019-05-29T00:00:00\",\"2019-06-02T00:00:00\",\"2019-06-05T00:00:00\",\"2019-06-16T00:00:00\",\"2019-06-18T00:00:00\",\"2019-06-20T00:00:00\",\"2019-06-24T00:00:00\",\"2019-06-26T00:00:00\",\"2019-06-29T00:00:00\",\"2019-07-23T00:00:00\",\"2019-08-02T00:00:00\",\"2019-08-04T00:00:00\",\"2019-08-08T00:00:00\",\"2019-08-12T00:00:00\",\"2019-08-15T00:00:00\",\"2019-08-21T00:00:00\",\"2019-08-28T00:00:00\",\"2019-09-05T00:00:00\",\"2019-09-12T00:00:00\",\"2019-09-19T00:00:00\",\"2019-09-20T00:00:00\",\"2019-09-21T00:00:00\",\"2019-09-23T00:00:00\",\"2019-10-05T00:00:00\",\"2019-10-09T00:00:00\",\"2019-11-05T00:00:00\",\"2019-11-12T00:00:00\",\"2019-11-14T00:00:00\",\"2019-12-15T00:00:00\",\"2019-12-19T00:00:00\",\"2019-12-23T00:00:00\",\"2019-12-27T00:00:00\",\"2019-12-31T00:00:00\",\"2020-01-09T00:00:00\",\"2020-01-11T00:00:00\",\"2020-01-13T00:00:00\",\"2020-01-17T00:00:00\",\"2020-01-23T00:00:00\",\"2020-01-25T00:00:00\",\"2020-01-26T00:00:00\",\"2020-01-27T00:00:00\",\"2020-01-31T00:00:00\",\"2020-02-01T00:00:00\",\"2020-02-04T00:00:00\",\"2020-02-10T00:00:00\",\"2020-02-24T00:00:00\",\"2020-02-25T00:00:00\",\"2020-02-26T00:00:00\",\"2020-03-02T00:00:00\",\"2020-03-03T00:00:00\",\"2020-03-04T00:00:00\",\"2020-03-07T00:00:00\",\"2020-03-09T00:00:00\",\"2020-04-05T00:00:00\",\"2020-04-08T00:00:00\",\"2020-04-19T00:00:00\",\"2020-04-22T00:00:00\",\"2020-04-24T00:00:00\",\"2020-04-25T00:00:00\",\"2020-05-03T00:00:00\",\"2020-05-06T00:00:00\",\"2020-05-07T00:00:00\",\"2020-05-09T00:00:00\",\"2020-05-12T00:00:00\",\"2020-05-16T00:00:00\",\"2020-05-18T00:00:00\",\"2020-05-26T00:00:00\",\"2020-05-29T00:00:00\",\"2020-06-07T00:00:00\",\"2020-06-08T00:00:00\",\"2020-06-17T00:00:00\",\"2020-06-18T00:00:00\",\"2020-06-25T00:00:00\",\"2020-06-26T00:00:00\",\"2020-06-27T00:00:00\",\"2020-06-28T00:00:00\",\"2020-06-29T00:00:00\",\"2020-07-03T00:00:00\",\"2020-07-05T00:00:00\",\"2020-07-07T00:00:00\",\"2020-07-09T00:00:00\",\"2020-07-15T00:00:00\",\"2020-07-16T00:00:00\",\"2020-07-18T00:00:00\",\"2020-07-22T00:00:00\",\"2020-08-01T00:00:00\",\"2020-08-02T00:00:00\",\"2020-08-06T00:00:00\",\"2020-08-07T00:00:00\",\"2020-08-08T00:00:00\",\"2020-08-20T00:00:00\",\"2020-08-21T00:00:00\",\"2020-08-22T00:00:00\",\"2020-08-26T00:00:00\",\"2020-09-03T00:00:00\",\"2020-09-04T00:00:00\",\"2020-09-11T00:00:00\",\"2020-09-13T00:00:00\",\"2020-09-15T00:00:00\",\"2020-09-19T00:00:00\",\"2020-09-20T00:00:00\",\"2020-10-01T00:00:00\",\"2020-10-18T00:00:00\",\"2020-10-26T00:00:00\",\"2020-11-01T00:00:00\",\"2020-11-02T00:00:00\",\"2020-11-29T00:00:00\",\"2020-12-04T00:00:00\",\"2020-12-06T00:00:00\",\"2020-12-26T00:00:00\",\"2021-01-12T00:00:00\",\"2021-01-22T00:00:00\",\"2021-01-25T00:00:00\",\"2021-01-26T00:00:00\",\"2021-01-29T00:00:00\",\"2021-02-02T00:00:00\",\"2021-02-17T00:00:00\",\"2021-02-20T00:00:00\",\"2021-02-25T00:00:00\",\"2021-02-26T00:00:00\",\"2021-02-27T00:00:00\",\"2021-03-12T00:00:00\",\"2021-04-04T00:00:00\",\"2021-05-10T00:00:00\",\"2021-05-17T00:00:00\",\"2021-05-25T00:00:00\",\"2021-05-31T00:00:00\",\"2021-06-04T00:00:00\",\"2021-06-10T00:00:00\",\"2021-06-24T00:00:00\",\"2021-06-25T00:00:00\",\"2021-06-26T00:00:00\",\"2021-07-05T00:00:00\",\"2021-07-06T00:00:00\",\"2021-07-21T00:00:00\",\"2021-07-28T00:00:00\",\"2021-07-29T00:00:00\",\"2021-08-11T00:00:00\",\"2021-08-12T00:00:00\",\"2021-08-21T00:00:00\",\"2021-08-22T00:00:00\",\"2021-08-24T00:00:00\",\"2021-09-07T00:00:00\",\"2021-09-10T00:00:00\",\"2021-09-11T00:00:00\",\"2021-09-12T00:00:00\",\"2021-09-14T00:00:00\",\"2021-09-16T00:00:00\",\"2021-09-19T00:00:00\",\"2021-09-21T00:00:00\",\"2021-09-23T00:00:00\",\"2021-09-25T00:00:00\",\"2021-09-28T00:00:00\",\"2021-09-29T00:00:00\",\"2021-10-09T00:00:00\",\"2021-10-10T00:00:00\",\"2021-10-13T00:00:00\",\"2021-10-23T00:00:00\",\"2021-10-26T00:00:00\",\"2021-10-30T00:00:00\",\"2021-10-31T00:00:00\",\"2021-11-04T00:00:00\",\"2021-11-05T00:00:00\",\"2021-11-10T00:00:00\",\"2021-11-12T00:00:00\",\"2021-11-15T00:00:00\",\"2021-11-29T00:00:00\",\"2021-12-01T00:00:00\",\"2021-12-02T00:00:00\",\"2021-12-03T00:00:00\",\"2021-12-04T00:00:00\",\"2021-12-07T00:00:00\",\"2021-12-08T00:00:00\",\"2021-12-11T00:00:00\",\"2021-12-15T00:00:00\",\"2021-12-17T00:00:00\",\"2021-12-19T00:00:00\",\"2021-12-21T00:00:00\",\"2021-12-28T00:00:00\",\"2021-12-29T00:00:00\",\"2022-01-01T00:00:00\",\"2022-01-18T00:00:00\",\"2022-01-20T00:00:00\",\"2022-01-25T00:00:00\",\"2022-01-26T00:00:00\",\"2022-01-27T00:00:00\",\"2022-02-01T00:00:00\",\"2022-02-04T00:00:00\",\"2022-02-07T00:00:00\",\"2022-02-11T00:00:00\",\"2022-02-12T00:00:00\",\"2022-02-13T00:00:00\",\"2022-02-14T00:00:00\",\"2022-02-17T00:00:00\",\"2022-02-18T00:00:00\",\"2022-02-19T00:00:00\",\"2022-02-20T00:00:00\",\"2022-02-21T00:00:00\",\"2022-02-23T00:00:00\",\"2022-02-24T00:00:00\",\"2022-02-25T00:00:00\",\"2022-02-26T00:00:00\",\"2022-02-28T00:00:00\",\"2022-03-03T00:00:00\",\"2022-03-05T00:00:00\",\"2022-03-07T00:00:00\",\"2022-03-09T00:00:00\",\"2022-03-10T00:00:00\",\"2022-03-11T00:00:00\",\"2022-03-17T00:00:00\",\"2022-03-18T00:00:00\",\"2022-03-22T00:00:00\",\"2022-03-23T00:00:00\",\"2022-03-24T00:00:00\",\"2022-03-25T00:00:00\",\"2022-03-26T00:00:00\",\"2022-03-27T00:00:00\",\"2022-03-31T00:00:00\",\"2022-04-02T00:00:00\",\"2022-04-04T00:00:00\",\"2022-04-05T00:00:00\",\"2022-04-06T00:00:00\",\"2022-04-07T00:00:00\",\"2022-04-08T00:00:00\",\"2022-04-12T00:00:00\",\"2022-04-13T00:00:00\",\"2022-04-16T00:00:00\",\"2022-04-21T00:00:00\",\"2022-04-22T00:00:00\",\"2022-04-23T00:00:00\",\"2022-04-24T00:00:00\",\"2022-04-30T00:00:00\",\"2022-05-01T00:00:00\",\"2022-05-05T00:00:00\",\"2022-05-06T00:00:00\",\"2022-05-07T00:00:00\",\"2022-05-08T00:00:00\",\"2022-05-09T00:00:00\",\"2022-05-10T00:00:00\",\"2022-05-11T00:00:00\",\"2022-05-13T00:00:00\",\"2022-05-14T00:00:00\",\"2022-05-15T00:00:00\",\"2022-05-18T00:00:00\",\"2022-05-20T00:00:00\",\"2022-05-21T00:00:00\",\"2022-05-24T00:00:00\",\"2022-05-25T00:00:00\",\"2022-05-27T00:00:00\",\"2022-06-05T00:00:00\",\"2022-06-06T00:00:00\",\"2022-06-07T00:00:00\",\"2022-06-08T00:00:00\",\"2022-06-12T00:00:00\",\"2022-06-13T00:00:00\",\"2022-06-14T00:00:00\",\"2022-06-17T00:00:00\",\"2022-06-18T00:00:00\",\"2022-06-24T00:00:00\",\"2022-06-27T00:00:00\",\"2022-06-29T00:00:00\",\"2022-07-01T00:00:00\",\"2022-07-03T00:00:00\",\"2022-07-04T00:00:00\",\"2022-07-05T00:00:00\",\"2022-07-06T00:00:00\",\"2022-07-08T00:00:00\",\"2022-07-09T00:00:00\",\"2022-07-13T00:00:00\",\"2022-07-14T00:00:00\",\"2022-07-15T00:00:00\",\"2022-07-17T00:00:00\",\"2022-07-18T00:00:00\",\"2022-07-19T00:00:00\",\"2022-07-20T00:00:00\",\"2022-07-21T00:00:00\",\"2022-07-22T00:00:00\",\"2022-07-23T00:00:00\",\"2022-07-30T00:00:00\",\"2022-08-04T00:00:00\",\"2022-08-07T00:00:00\",\"2022-08-08T00:00:00\",\"2022-08-12T00:00:00\",\"2022-08-14T00:00:00\",\"2022-08-15T00:00:00\",\"2022-08-16T00:00:00\",\"2022-08-18T00:00:00\",\"2022-08-19T00:00:00\",\"2022-08-20T00:00:00\",\"2022-08-21T00:00:00\",\"2022-08-22T00:00:00\",\"2022-08-24T00:00:00\",\"2022-08-25T00:00:00\",\"2022-08-26T00:00:00\",\"2022-08-27T00:00:00\",\"2022-09-08T00:00:00\",\"2022-09-09T00:00:00\",\"2022-09-21T00:00:00\",\"2022-09-25T00:00:00\",\"2022-09-28T00:00:00\",\"2022-10-01T00:00:00\",\"2022-10-03T00:00:00\",\"2022-10-05T00:00:00\",\"2022-10-06T00:00:00\",\"2022-10-07T00:00:00\",\"2022-10-09T00:00:00\",\"2022-10-11T00:00:00\",\"2022-10-13T00:00:00\",\"2022-10-14T00:00:00\",\"2022-10-16T00:00:00\",\"2022-10-25T00:00:00\",\"2022-10-26T00:00:00\",\"2022-10-28T00:00:00\",\"2022-10-29T00:00:00\",\"2022-11-02T00:00:00\",\"2022-11-03T00:00:00\",\"2022-11-05T00:00:00\",\"2022-11-07T00:00:00\",\"2022-11-09T00:00:00\",\"2022-11-19T00:00:00\",\"2022-11-21T00:00:00\",\"2022-11-24T00:00:00\",\"2022-11-27T00:00:00\",\"2022-11-28T00:00:00\",\"2022-11-30T00:00:00\",\"2022-12-01T00:00:00\",\"2022-12-02T00:00:00\",\"2022-12-03T00:00:00\",\"2022-12-04T00:00:00\",\"2022-12-06T00:00:00\",\"2022-12-07T00:00:00\",\"2022-12-08T00:00:00\",\"2022-12-13T00:00:00\",\"2022-12-15T00:00:00\",\"2022-12-19T00:00:00\",\"2022-12-22T00:00:00\",\"2022-12-23T00:00:00\",\"2022-12-25T00:00:00\",\"2022-12-28T00:00:00\"],\"y\":[1,1,1,1,1,1,3,1,1,1,1,2,1,1,1,1,1,1,1,1,1,1,1,1,1,1,3,1,1,1,1,1,2,1,1,2,1,1,2,1,1,1,1,1,1,1,2,1,1,1,1,1,1,1,1,1,2,2,1,1,1,1,1,1,1,1,1,1,1,1,1,1,1,1,1,1,2,1,1,1,1,1,1,1,1,1,1,1,2,2,1,1,2,2,1,1,1,1,1,1,1,1,1,1,1,1,2,1,1,1,3,1,1,2,1,1,1,1,2,1,2,1,1,1,3,1,1,1,1,2,1,1,2,1,1,1,1,1,1,3,1,1,1,1,1,2,1,1,1,1,1,1,1,1,1,1,1,1,1,1,2,1,1,1,1,1,1,1,1,1,1,2,1,1,2,1,1,1,1,1,3,1,3,1,2,1,1,2,1,1,3,5,1,1,3,1,1,1,2,2,4,1,1,1,1,1,1,1,1,2,2,1,1,1,1,1,1,2,4,4,3,3,1,1,1,1,2,1,1,1,1,2,2,1,1,1,7,2,1,3,2,1,1,1,1,1,1,1,1,2,1,2,1,1,1,1,1,4,1,1,1,1,1,3,6,1,2,1,1,1,1,1,1,1,1,2,1,1,1,1,1,1,1,1,6,1,1,1,1,2,2,1,2,1,2,1,2,2,1,1,2,1,2,1,1,1,1,1,1,1,1,1,2,1,1,1,1,2,1,1,1,1,1,4,2,2,1,1,7,1,1,1,1,1,2,1,1,1,1,1,3,4,1,2,1,8,3,1,1,1,1,1,3,1,2,2,2,2,4,1,1,2,1,3,1,1,1,2,1,1,2,1,1,1,3,2,1,1,3,1,3,2,4,5,3,1,1,1,2,1,1,1,3,2,1,1,4,2,1,1,1,1,1,2,2,1,1,1,2,4,3,3,1,3,1,1,2,1,2,4,2,2,4,1,1,1,2,2,1,1,3,1,2,5,7,4,1,2,1,2,1,1,1,2,1,1,1,1,2,2,1,1,2,1,1,2,1,1,2,1,2,2,2,3,1,1,1,2,2,1,2,1,1,1,1,3,2,1,1,1,1,1,1,1],\"type\":\"scatter\"},{\"hovertext\":[\"2020-02-25\",\"2020-08-21\",\"2021-02-26\",\"2021-08-21\",\"2022-01-25\",\"2022-02-25\",\"2022-05-10\",\"2022-08-21\"],\"marker\":{\"color\":\"#FFE459\",\"size\":15,\"symbol\":\"x\"},\"mode\":\"markers\",\"name\":\"Peaks\",\"x\":[\"2020-02-25T00:00:00\",\"2020-08-21T00:00:00\",\"2021-02-26T00:00:00\",\"2021-08-21T00:00:00\",\"2022-01-25T00:00:00\",\"2022-02-25T00:00:00\",\"2022-05-10T00:00:00\",\"2022-08-21T00:00:00\"],\"y\":[5,7,6,6,7,8,5,7],\"type\":\"scatter\"}],                        {\"template\":{\"data\":{\"histogram2dcontour\":[{\"type\":\"histogram2dcontour\",\"colorbar\":{\"outlinewidth\":0,\"ticks\":\"\"},\"colorscale\":[[0.0,\"#0d0887\"],[0.1111111111111111,\"#46039f\"],[0.2222222222222222,\"#7201a8\"],[0.3333333333333333,\"#9c179e\"],[0.4444444444444444,\"#bd3786\"],[0.5555555555555556,\"#d8576b\"],[0.6666666666666666,\"#ed7953\"],[0.7777777777777778,\"#fb9f3a\"],[0.8888888888888888,\"#fdca26\"],[1.0,\"#f0f921\"]]}],\"choropleth\":[{\"type\":\"choropleth\",\"colorbar\":{\"outlinewidth\":0,\"ticks\":\"\"}}],\"histogram2d\":[{\"type\":\"histogram2d\",\"colorbar\":{\"outlinewidth\":0,\"ticks\":\"\"},\"colorscale\":[[0.0,\"#0d0887\"],[0.1111111111111111,\"#46039f\"],[0.2222222222222222,\"#7201a8\"],[0.3333333333333333,\"#9c179e\"],[0.4444444444444444,\"#bd3786\"],[0.5555555555555556,\"#d8576b\"],[0.6666666666666666,\"#ed7953\"],[0.7777777777777778,\"#fb9f3a\"],[0.8888888888888888,\"#fdca26\"],[1.0,\"#f0f921\"]]}],\"heatmap\":[{\"type\":\"heatmap\",\"colorbar\":{\"outlinewidth\":0,\"ticks\":\"\"},\"colorscale\":[[0.0,\"#0d0887\"],[0.1111111111111111,\"#46039f\"],[0.2222222222222222,\"#7201a8\"],[0.3333333333333333,\"#9c179e\"],[0.4444444444444444,\"#bd3786\"],[0.5555555555555556,\"#d8576b\"],[0.6666666666666666,\"#ed7953\"],[0.7777777777777778,\"#fb9f3a\"],[0.8888888888888888,\"#fdca26\"],[1.0,\"#f0f921\"]]}],\"heatmapgl\":[{\"type\":\"heatmapgl\",\"colorbar\":{\"outlinewidth\":0,\"ticks\":\"\"},\"colorscale\":[[0.0,\"#0d0887\"],[0.1111111111111111,\"#46039f\"],[0.2222222222222222,\"#7201a8\"],[0.3333333333333333,\"#9c179e\"],[0.4444444444444444,\"#bd3786\"],[0.5555555555555556,\"#d8576b\"],[0.6666666666666666,\"#ed7953\"],[0.7777777777777778,\"#fb9f3a\"],[0.8888888888888888,\"#fdca26\"],[1.0,\"#f0f921\"]]}],\"contourcarpet\":[{\"type\":\"contourcarpet\",\"colorbar\":{\"outlinewidth\":0,\"ticks\":\"\"}}],\"contour\":[{\"type\":\"contour\",\"colorbar\":{\"outlinewidth\":0,\"ticks\":\"\"},\"colorscale\":[[0.0,\"#0d0887\"],[0.1111111111111111,\"#46039f\"],[0.2222222222222222,\"#7201a8\"],[0.3333333333333333,\"#9c179e\"],[0.4444444444444444,\"#bd3786\"],[0.5555555555555556,\"#d8576b\"],[0.6666666666666666,\"#ed7953\"],[0.7777777777777778,\"#fb9f3a\"],[0.8888888888888888,\"#fdca26\"],[1.0,\"#f0f921\"]]}],\"surface\":[{\"type\":\"surface\",\"colorbar\":{\"outlinewidth\":0,\"ticks\":\"\"},\"colorscale\":[[0.0,\"#0d0887\"],[0.1111111111111111,\"#46039f\"],[0.2222222222222222,\"#7201a8\"],[0.3333333333333333,\"#9c179e\"],[0.4444444444444444,\"#bd3786\"],[0.5555555555555556,\"#d8576b\"],[0.6666666666666666,\"#ed7953\"],[0.7777777777777778,\"#fb9f3a\"],[0.8888888888888888,\"#fdca26\"],[1.0,\"#f0f921\"]]}],\"mesh3d\":[{\"type\":\"mesh3d\",\"colorbar\":{\"outlinewidth\":0,\"ticks\":\"\"}}],\"scatter\":[{\"fillpattern\":{\"fillmode\":\"overlay\",\"size\":10,\"solidity\":0.2},\"type\":\"scatter\"}],\"parcoords\":[{\"type\":\"parcoords\",\"line\":{\"colorbar\":{\"outlinewidth\":0,\"ticks\":\"\"}}}],\"scatterpolargl\":[{\"type\":\"scatterpolargl\",\"marker\":{\"colorbar\":{\"outlinewidth\":0,\"ticks\":\"\"}}}],\"bar\":[{\"error_x\":{\"color\":\"#2a3f5f\"},\"error_y\":{\"color\":\"#2a3f5f\"},\"marker\":{\"line\":{\"color\":\"#E5ECF6\",\"width\":0.5},\"pattern\":{\"fillmode\":\"overlay\",\"size\":10,\"solidity\":0.2}},\"type\":\"bar\"}],\"scattergeo\":[{\"type\":\"scattergeo\",\"marker\":{\"colorbar\":{\"outlinewidth\":0,\"ticks\":\"\"}}}],\"scatterpolar\":[{\"type\":\"scatterpolar\",\"marker\":{\"colorbar\":{\"outlinewidth\":0,\"ticks\":\"\"}}}],\"histogram\":[{\"marker\":{\"pattern\":{\"fillmode\":\"overlay\",\"size\":10,\"solidity\":0.2}},\"type\":\"histogram\"}],\"scattergl\":[{\"type\":\"scattergl\",\"marker\":{\"colorbar\":{\"outlinewidth\":0,\"ticks\":\"\"}}}],\"scatter3d\":[{\"type\":\"scatter3d\",\"line\":{\"colorbar\":{\"outlinewidth\":0,\"ticks\":\"\"}},\"marker\":{\"colorbar\":{\"outlinewidth\":0,\"ticks\":\"\"}}}],\"scattermapbox\":[{\"type\":\"scattermapbox\",\"marker\":{\"colorbar\":{\"outlinewidth\":0,\"ticks\":\"\"}}}],\"scatterternary\":[{\"type\":\"scatterternary\",\"marker\":{\"colorbar\":{\"outlinewidth\":0,\"ticks\":\"\"}}}],\"scattercarpet\":[{\"type\":\"scattercarpet\",\"marker\":{\"colorbar\":{\"outlinewidth\":0,\"ticks\":\"\"}}}],\"carpet\":[{\"aaxis\":{\"endlinecolor\":\"#2a3f5f\",\"gridcolor\":\"white\",\"linecolor\":\"white\",\"minorgridcolor\":\"white\",\"startlinecolor\":\"#2a3f5f\"},\"baxis\":{\"endlinecolor\":\"#2a3f5f\",\"gridcolor\":\"white\",\"linecolor\":\"white\",\"minorgridcolor\":\"white\",\"startlinecolor\":\"#2a3f5f\"},\"type\":\"carpet\"}],\"table\":[{\"cells\":{\"fill\":{\"color\":\"#EBF0F8\"},\"line\":{\"color\":\"white\"}},\"header\":{\"fill\":{\"color\":\"#C8D4E3\"},\"line\":{\"color\":\"white\"}},\"type\":\"table\"}],\"barpolar\":[{\"marker\":{\"line\":{\"color\":\"#E5ECF6\",\"width\":0.5},\"pattern\":{\"fillmode\":\"overlay\",\"size\":10,\"solidity\":0.2}},\"type\":\"barpolar\"}],\"pie\":[{\"automargin\":true,\"type\":\"pie\"}]},\"layout\":{\"autotypenumbers\":\"strict\",\"colorway\":[\"#636efa\",\"#EF553B\",\"#00cc96\",\"#ab63fa\",\"#FFA15A\",\"#19d3f3\",\"#FF6692\",\"#B6E880\",\"#FF97FF\",\"#FECB52\"],\"font\":{\"color\":\"#2a3f5f\"},\"hovermode\":\"closest\",\"hoverlabel\":{\"align\":\"left\"},\"paper_bgcolor\":\"white\",\"plot_bgcolor\":\"#E5ECF6\",\"polar\":{\"bgcolor\":\"#E5ECF6\",\"angularaxis\":{\"gridcolor\":\"white\",\"linecolor\":\"white\",\"ticks\":\"\"},\"radialaxis\":{\"gridcolor\":\"white\",\"linecolor\":\"white\",\"ticks\":\"\"}},\"ternary\":{\"bgcolor\":\"#E5ECF6\",\"aaxis\":{\"gridcolor\":\"white\",\"linecolor\":\"white\",\"ticks\":\"\"},\"baxis\":{\"gridcolor\":\"white\",\"linecolor\":\"white\",\"ticks\":\"\"},\"caxis\":{\"gridcolor\":\"white\",\"linecolor\":\"white\",\"ticks\":\"\"}},\"coloraxis\":{\"colorbar\":{\"outlinewidth\":0,\"ticks\":\"\"}},\"colorscale\":{\"sequential\":[[0.0,\"#0d0887\"],[0.1111111111111111,\"#46039f\"],[0.2222222222222222,\"#7201a8\"],[0.3333333333333333,\"#9c179e\"],[0.4444444444444444,\"#bd3786\"],[0.5555555555555556,\"#d8576b\"],[0.6666666666666666,\"#ed7953\"],[0.7777777777777778,\"#fb9f3a\"],[0.8888888888888888,\"#fdca26\"],[1.0,\"#f0f921\"]],\"sequentialminus\":[[0.0,\"#0d0887\"],[0.1111111111111111,\"#46039f\"],[0.2222222222222222,\"#7201a8\"],[0.3333333333333333,\"#9c179e\"],[0.4444444444444444,\"#bd3786\"],[0.5555555555555556,\"#d8576b\"],[0.6666666666666666,\"#ed7953\"],[0.7777777777777778,\"#fb9f3a\"],[0.8888888888888888,\"#fdca26\"],[1.0,\"#f0f921\"]],\"diverging\":[[0,\"#8e0152\"],[0.1,\"#c51b7d\"],[0.2,\"#de77ae\"],[0.3,\"#f1b6da\"],[0.4,\"#fde0ef\"],[0.5,\"#f7f7f7\"],[0.6,\"#e6f5d0\"],[0.7,\"#b8e186\"],[0.8,\"#7fbc41\"],[0.9,\"#4d9221\"],[1,\"#276419\"]]},\"xaxis\":{\"gridcolor\":\"white\",\"linecolor\":\"white\",\"ticks\":\"\",\"title\":{\"standoff\":15},\"zerolinecolor\":\"white\",\"automargin\":true,\"zerolinewidth\":2},\"yaxis\":{\"gridcolor\":\"white\",\"linecolor\":\"white\",\"ticks\":\"\",\"title\":{\"standoff\":15},\"zerolinecolor\":\"white\",\"automargin\":true,\"zerolinewidth\":2},\"scene\":{\"xaxis\":{\"backgroundcolor\":\"#E5ECF6\",\"gridcolor\":\"white\",\"linecolor\":\"white\",\"showbackground\":true,\"ticks\":\"\",\"zerolinecolor\":\"white\",\"gridwidth\":2},\"yaxis\":{\"backgroundcolor\":\"#E5ECF6\",\"gridcolor\":\"white\",\"linecolor\":\"white\",\"showbackground\":true,\"ticks\":\"\",\"zerolinecolor\":\"white\",\"gridwidth\":2},\"zaxis\":{\"backgroundcolor\":\"#E5ECF6\",\"gridcolor\":\"white\",\"linecolor\":\"white\",\"showbackground\":true,\"ticks\":\"\",\"zerolinecolor\":\"white\",\"gridwidth\":2}},\"shapedefaults\":{\"line\":{\"color\":\"#2a3f5f\"}},\"annotationdefaults\":{\"arrowcolor\":\"#2a3f5f\",\"arrowhead\":0,\"arrowwidth\":1},\"geo\":{\"bgcolor\":\"white\",\"landcolor\":\"#E5ECF6\",\"subunitcolor\":\"white\",\"showland\":true,\"showlakes\":true,\"lakecolor\":\"white\"},\"title\":{\"x\":0.05},\"mapbox\":{\"style\":\"light\"}}},\"annotations\":[{\"arrowcolor\":\"black\",\"arrowhead\":2,\"arrowsize\":1,\"arrowwidth\":2,\"ax\":20,\"ay\":-30,\"font\":{\"family\":\"Arial Black\",\"size\":14},\"showarrow\":true,\"text\":\"Feb, 25, 2020\",\"x\":\"2020-02-25T00:00:00\",\"y\":5},{\"arrowcolor\":\"black\",\"arrowhead\":2,\"arrowsize\":1,\"arrowwidth\":2,\"ax\":20,\"ay\":-30,\"font\":{\"family\":\"Arial Black\",\"size\":14},\"showarrow\":true,\"text\":\"Aug, 21, 2020\",\"x\":\"2020-08-21T00:00:00\",\"y\":7},{\"arrowcolor\":\"black\",\"arrowhead\":2,\"arrowsize\":1,\"arrowwidth\":2,\"ax\":20,\"ay\":-30,\"font\":{\"family\":\"Arial Black\",\"size\":14},\"showarrow\":true,\"text\":\"Feb, 26, 2021\",\"x\":\"2021-02-26T00:00:00\",\"y\":6},{\"arrowcolor\":\"black\",\"arrowhead\":2,\"arrowsize\":1,\"arrowwidth\":2,\"ax\":20,\"ay\":-30,\"font\":{\"family\":\"Arial Black\",\"size\":14},\"showarrow\":true,\"text\":\"Aug, 21, 2021\",\"x\":\"2021-08-21T00:00:00\",\"y\":6},{\"arrowcolor\":\"black\",\"arrowhead\":2,\"arrowsize\":1,\"arrowwidth\":2,\"ax\":20,\"ay\":-30,\"font\":{\"family\":\"Arial Black\",\"size\":14},\"showarrow\":true,\"text\":\"Jan, 25, 2022\",\"x\":\"2022-01-25T00:00:00\",\"y\":7},{\"arrowcolor\":\"black\",\"arrowhead\":2,\"arrowsize\":1,\"arrowwidth\":2,\"ax\":20,\"ay\":-30,\"font\":{\"family\":\"Arial Black\",\"size\":14},\"showarrow\":true,\"text\":\"Feb, 25, 2022\",\"x\":\"2022-02-25T00:00:00\",\"y\":8},{\"arrowcolor\":\"black\",\"arrowhead\":2,\"arrowsize\":1,\"arrowwidth\":2,\"ax\":20,\"ay\":-30,\"font\":{\"family\":\"Arial Black\",\"size\":14},\"showarrow\":true,\"text\":\"May, 10, 2022\",\"x\":\"2022-05-10T00:00:00\",\"y\":5},{\"arrowcolor\":\"black\",\"arrowhead\":2,\"arrowsize\":1,\"arrowwidth\":2,\"ax\":20,\"ay\":-30,\"font\":{\"family\":\"Arial Black\",\"size\":14},\"showarrow\":true,\"text\":\"Aug, 21, 2022\",\"x\":\"2022-08-21T00:00:00\",\"y\":7}],\"title\":{\"font\":{\"size\":30,\"color\":\"#1B70C8\"},\"text\":\"<b>Twitter Aquino Allegations Peak Events</b>\"},\"xaxis\":{\"title\":{\"font\":{\"size\":20,\"color\":\"#3691E9\"},\"text\":\"<b>Year (2016-2022)</b>\"},\"tickfont\":{\"size\":18,\"family\":\"Arial Black\"},\"tickformat\":\"%Y\",\"dtick\":\"M12\",\"ticklabelmode\":\"period\",\"ticklen\":10},\"yaxis\":{\"title\":{\"font\":{\"size\":20,\"color\":\"#3691E9\"},\"text\":\"<b>Number of Tweets</b>\"},\"tickfont\":{\"size\":18,\"family\":\"Arial Black\"}},\"height\":600,\"plot_bgcolor\":\"#99CEFF\"},                        {\"responsive\": true}                    ).then(function(){\n",
              "                            \n",
              "var gd = document.getElementById('f181c3e8-2b00-4246-82af-1e00db6b5cb6');\n",
              "var x = new MutationObserver(function (mutations, observer) {{\n",
              "        var display = window.getComputedStyle(gd).display;\n",
              "        if (!display || display === 'none') {{\n",
              "            console.log([gd, 'removed!']);\n",
              "            Plotly.purge(gd);\n",
              "            observer.disconnect();\n",
              "        }}\n",
              "}});\n",
              "\n",
              "// Listen for the removal of the full notebook cells\n",
              "var notebookContainer = gd.closest('#notebook-container');\n",
              "if (notebookContainer) {{\n",
              "    x.observe(notebookContainer, {childList: true});\n",
              "}}\n",
              "\n",
              "// Listen for the clearing of the current output cell\n",
              "var outputEl = gd.closest('.output');\n",
              "if (outputEl) {{\n",
              "    x.observe(outputEl, {childList: true});\n",
              "}}\n",
              "\n",
              "                        })                };                            </script>        </div>\n",
              "</body>\n",
              "</html>"
            ]
          },
          "metadata": {}
        }
      ],
      "source": [
        "#------------------------\n",
        "# Peak Events Detection\n",
        "#------------------------\n",
        "\n",
        "# Convert the date column to seconds\n",
        "x = df_reg['date'].astype(int) / 10**9  # Convert to seconds (UNIX epoch start)\n",
        "x = x.values.reshape(-1, 1)\n",
        "y = df_reg['count'].values\n",
        "\n",
        "# Find local maxima\n",
        "peaks = argrelextrema(y, np.greater)[0]\n",
        "\n",
        "# Filter peaks based on their significance\n",
        "significance_threshold = 3  # Adjust as needed\n",
        "filtered_peaks = [peak for peak in peaks if y[peak] > significance_threshold * np.mean(y)]\n",
        "\n",
        "# Extract event timestamps\n",
        "events = df_reg.iloc[filtered_peaks]\n",
        "\n",
        "# Plot peaks\n",
        "fig = go.Figure()\n",
        "\n",
        "# Original data\n",
        "fig.add_trace(go.Scatter(\n",
        "    x=df_reg['date'],\n",
        "    y=df_reg['count'],\n",
        "    hovertext=df_reg['date'].dt.strftime('%Y-%m-%d'),\n",
        "    mode='lines',\n",
        "    name='Tweet Data',\n",
        "    line=dict(color='#1B70C8') # Color of lines\n",
        "))\n",
        "\n",
        "# Peaks\n",
        "fig.add_trace(go.Scatter(\n",
        "    x=events['date'],\n",
        "    y=events['count'],\n",
        "    hovertext=events['date'].dt.strftime('%Y-%m-%d'),\n",
        "    mode='markers',\n",
        "    name='Peaks',\n",
        "    marker=dict(\n",
        "        color='#FFE459', # Color of peaks (X mark)\n",
        "        size=15, # Size of peaks (X mark)\n",
        "        symbol='x'\n",
        "    ))\n",
        ")\n",
        "\n",
        "# Arrows\n",
        "for date, count in zip(events['date'], events['count']):\n",
        "    fig.add_annotation(\n",
        "        x=date,\n",
        "        y=count,\n",
        "        text=date.strftime('%b, %d, %Y'),\n",
        "        showarrow=True,\n",
        "        arrowhead=2,\n",
        "        arrowsize=1,\n",
        "        arrowwidth=2,\n",
        "        arrowcolor='black', # Color of arrows\n",
        "        ax=20,\n",
        "        ay=-30,\n",
        "        font=dict(size=14, family='Arial Black') # Size of arrows\n",
        "    )\n",
        "\n",
        "fig.update_layout(\n",
        "    height=600,\n",
        "    title=dict(text='<b>Twitter Aquino Allegations Peak Events</b>', font=dict(size=30, color='#1B70C8')), # Size and color of title\n",
        "    xaxis_title=dict(text='<b>Year (2016-2022)</b>', font=dict(size=20, color='#3691E9')), # Size of x-axis header\n",
        "    yaxis_title=dict(text='<b>Number of Tweets</b>', font=dict(size=20, color='#3691E9')), # Size of y-axis header\n",
        "    plot_bgcolor='#99CEFF' # Color of background (tweak this)\n",
        ")\n",
        "\n",
        "fig.update_xaxes(\n",
        "    tickformat=\"%Y\",\n",
        "    dtick=\"M12\",\n",
        "    ticklabelmode=\"period\",\n",
        "    ticklen=10,\n",
        "    tickfont=dict(size=18,family=\"Arial Black\") # Size of x-axis labels\n",
        ")\n",
        "\n",
        "fig.update_yaxes(\n",
        "    tickfont=dict(size=18,family=\"Arial Black\") # Size of y-axis labels\n",
        ")\n",
        "\n",
        "fig.show()"
      ],
      "id": "1KfCCUFS75vu"
    },
    {
      "cell_type": "markdown",
      "source": [
        "### **Interpretation**"
      ],
      "metadata": {
        "id": "Dje4ytC8SudM"
      },
      "id": "Dje4ytC8SudM"
    },
    {
      "cell_type": "markdown",
      "metadata": {
        "id": "19nCUYTClnW6"
      },
      "source": [
        "Using peak detection with ```significance_threshold = 3```, we filter the peaks using the significance threshold we have set. Now, to visualize these peaks, we calculated for the local maxima using ```argrelextrema()``` to locate these peaks using a graph. Using these techniques, we found out that the following dates have major implications in the occurence of mis/disinformation tweets regarding the Aquinos:\n",
        "\n",
        "*   **February 25, 2020** - EDSA Revolution Anniversary\n",
        "*   **August 21, 2020**- Ninoy Aquino Day\n",
        "*   **February 26, 2021**- EDSA Revolution Anniversary\n",
        "*   **August 21, 2021** - Ninoy Aquino Day\n",
        "*   **January 25, 2022**- Cory Aquino's Birthday\n",
        "*   **February 25, 2022** - EDSA Revolution Anniversary\n",
        "*   **May 10, 2022** - Philippine Elections\n",
        "*   **August 21, 2022** - Ninoy Aquino Day\n",
        "\n",
        "Now, this implies that mis/disinformation tweets **significantly increases** whenever **one of these major events** occur. It is likely possible that there is a **underlying connection** that drives trolls to **stir or distort history** whenever the **topics/controversies on the Aquinos** are once more debated in social media."
      ],
      "id": "19nCUYTClnW6"
    },
    {
      "cell_type": "markdown",
      "source": [
        "### **III. Data Communication**"
      ],
      "metadata": {
        "id": "5VYYx44hbpye"
      },
      "id": "5VYYx44hbpye"
    },
    {
      "cell_type": "markdown",
      "source": [
        "**Introduction** \\\\\n",
        "Social media is quoted as the “primary platform for politics,” making it one of the most active mediums for publicity and political discourse.\n",
        "\n",
        "Filipinos highly trust the variety of available information in social media platforms, causing a great divide in public opinion. There is an existing influx of misinformation that distorts the criteria for legitimate sources and amplifies the existence of echo chambers, which contain biased and misleading information.\n",
        "\n",
        "Hence, our team investigated and analyzed the disinformation currently present on social media, in our study titled: \"Decoding Dates: A Time Series Analysis on the Deceptions Bound to “Dilawan\".\n",
        "\n",
        "**Materials and Methods** \\\\\n",
        "The problem that we have identified that despite being one of the most prominent families in the Philippines for their political involvement and significant influence on Filipino democracy, the image and legacy of the Aquinos are facing a downturn as it is being tampered with and manipulated using disinformation.\n",
        "\n",
        "This study aims to give light on the impact of recent events like the 2016 and 2022 Elections, EDSA People Power Anniversaries, and Ninoy Aquino Day on the spread of the allegations surrounding the Aquinos. The study is limited to utilizing relevant tweets from 2016-2022.\n",
        "\n",
        "In line with this problem, we have:\n",
        "\n",
        "*   **Null hypothesis**: the recent events had no significant effect on the number of allegation tweets towards the aquinos\n",
        "*   **Alternative hypothesis**: the recent events had a significant effect on the number of allegation tweets towards the aquinos\n",
        "\n",
        "These are the methods that we have conducted to know which of the aforementioned hypothesis is accepted or rejected:\n",
        "\n",
        "1.   Our group’s primary step is to utilize a data scraper and twitter’s advanced search feature, in gathering a pool of tweets containing keywords such as Ninoy traitor, Ninoy not a hero, Aquino murderer, corrupt, NPA.\n",
        "2.   From the gathered data, each group member has identified at least 50 Allegation tweets which are verified as mis/disinformation by trusted fact-checking organizations like VERA Files, Rappler, FactRakers, Agence France-Presse. As part of this step, it was ensured that every data collected can be classified as clean data and is labeled appropriately.\n",
        "3. We also got tweets from the Master Dataset that contained misinformation about the Aquinos so that our findings and results will be more reliable. The tweets that we got were from Groups 35, 37, 46, and 59. We also manually checked that those tweets obtained from them were clean and labeled correctly.\n",
        "4. Afterwards, on data exploration part, the group accumulated a dataset of 722 tweets, which was later reduced to 713 after preprocessing. This step included ensuring that there are no missing values, handling missing values, handling outliers, ensuring formatting consistency, and normalization/standardization/scaling. It also included the preparation for the time series analysis which is counting the number of tweets per day, month, and year. All of these preprocessing steps are necessary to ensure that the data is ready for modeling and analysis.\n",
        "5. Afterwards we proceed to statistical analysis and machine learning. For this, we used peak point detection and SVR-Linear Regression Model to find the trends of the tweets.\n",
        "\n",
        "**Results and Discussion** \\\\\n",
        "In the SVR-Linear Regression Model, observing the monthly tweet count per year, the number of tweets gradually increases. Implying that every year, there is a **significant increase** of Twitter **influencers/trolls/users** that contribute in the **spread of mis/disinformation**. There is also an **observable pattern** in the **SVR model** wherein **tweet count** is at **maximum** during the months of **April to August**.\n",
        "\n",
        "In exploring the **slope with the greatest amount of tweets** (2022), these are the following **major events** that occurred in the Philippines.\n",
        "\n",
        "***On April-June 2022***: A lot of the topics tied in social media during the 2022 National Elections revolves around the Marcoses, Robredos, and more importantly the Aquinos. Since these three have historical links, topics such as the EDSA Revolution, Ninoy Aquino's unresolved death and contribution to the nation emerges again as the one of the trending topics among the Filipinos during this time.\n",
        "\n",
        "***On July 2022***: This is when President Bongbong Marcos was set to deliver his first State of the Nation Address (SONA) at the Batasang Pambansa Complex. This major event in the Philippines resurfaced the events about Martial Law during Ferdinand Marcos' reign. As such, since the Aquinos were a key player in toppling the dictatorial rule of Marcos, hearsays or unproven claims tend to arise as well.\n",
        "\n",
        "***On August 2022***: As confirmed by the National Historical Commission of the Philippines (NHCP), Ninoy Aquino is declared as a national hero. As such, during the month of National Heroes' Day, there is a hot debate in social media whether Ninoy Aquino deserves the title or not. Unfortunately, many Twitter users rely on claims that are already deemed false to support their arguments.\n",
        "\n",
        "However, this is just the tip of the iceberg! We still need to know why these influx of tweets occur every year (why is there a pattern?). With that, we explore the next analysis.\n",
        "\n",
        "Using peak detection with ```significance_threshold = 3```, we filter the peaks using the significance threshold we have set. Now, to visualize these peaks, we calculated for the local maxima using ```argrelextrema()``` to locate these peaks using a graph. Using these techniques, we found out that the following dates have major implications in the occurence of mis/disinformation tweets regarding the Aquinos:\n",
        "\n",
        "*   **February 25, 2020** - EDSA Revolution Anniversary\n",
        "*   **August 21, 2020**- Ninoy Aquino Day\n",
        "*   **February 26, 2021**- EDSA Revolution Anniversary\n",
        "*   **August 21, 2021** - Ninoy Aquino Day\n",
        "*   **January 25, 2022**- Cory Aquino's Birthday\n",
        "*   **February 25, 2022** - EDSA Revolution Anniversary\n",
        "*   **May 10, 2022** - Philippine Elections\n",
        "*   **August 21, 2022** - Ninoy Aquino Day\n",
        "\n",
        "\n",
        "\n",
        "**Implications** \\\\\n",
        "Now, this implies that there is a **significant increase** in mis/disinformation tweets whenever major events related to the Aquinos, a prominent political family in the Philippines, occur. It suggests that there may be an **underlying connection** driving trolls to manipulate or distort historical events whenever discussions or controversies surrounding the Aquinos resurface on social media.\n",
        "\n",
        "These mis/disinformation campaigns often surge during major events associated with the Aquinos, such as anniversaries of historical moments or political developments. These campaigns are driven by various motivations, including political agendas, personal biases, or attempts to shape public opinion. Furthermore, trolls engage in spreading mis/disinformation by stirring or distorting history, particularly events linked to the Aquinos. Their aim is to alter public perceptions, discredit the Aquinos, or incite controversy. Historical revisionism also plays a role, as some individuals or organizations seek to promote alternative narratives or downplay aspects of the Aquinos' legacy.\n",
        "\n",
        "**Conclusion** \\\\\n",
        "Summing it up, the results show how the recent events established a connection with the Aquinos, which in turn, increased the volume of allegation tweets against them. As the Monthly SVR and Linear Regression Model showed that the allegation tweets increased linearly in time, implying a significant increase in twitter users who contribute to the influx of mis/disinformation.\n",
        "\n",
        "Identified peak events turned to be dates of relevant events like People Power Revolution Anniversary, Ninoy Aquino Day, Cory Aquino’s Birthday, and 2022\n",
        "National Elections. Thus, these are the top contributors to the volume of allegation tweets.\n",
        "\n",
        "This calls for a more rigorous and extensive fact-checking, especially during these important events that reflect our political views, not just as individuals, but our decisions as a democratic country. We should be more vigilant as the battle against mis/disinformation will never end. However, as long as journalists, data scientists, and we exist, we will do whatever it takes for truth to prevail against this sea of mis/disinformation.\n",
        "\n",
        "With that, this concludes the study that we have conducted about the Deceptions Bound to \"Dilawan\"."
      ],
      "metadata": {
        "id": "VLfwHadvbuhS"
      },
      "id": "VLfwHadvbuhS"
    }
  ],
  "metadata": {
    "colab": {
      "provenance": []
    },
    "kernelspec": {
      "display_name": "Python 3 (ipykernel)",
      "language": "python",
      "name": "python3"
    },
    "language_info": {
      "codemirror_mode": {
        "name": "ipython",
        "version": 3
      },
      "file_extension": ".py",
      "mimetype": "text/x-python",
      "name": "python",
      "nbconvert_exporter": "python",
      "pygments_lexer": "ipython3",
      "version": "3.10.9"
    }
  },
  "nbformat": 4,
  "nbformat_minor": 5
}